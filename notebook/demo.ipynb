{
 "cells": [
  {
   "cell_type": "code",
   "execution_count": 2,
   "metadata": {
    "id": "P7a8B9xErCE1"
   },
   "outputs": [],
   "source": [
    "import os\n",
    "import numpy as np\n",
    "import matplotlib.pyplot as plt\n",
    "import seaborn as sns\n",
    "import pandas as pd\n",
    "import torch\n",
    "import torch.nn as nn\n",
    "from torch.utils.data import DataLoader\n",
    "from torchvision import transforms, datasets\n",
    "import torch.nn.functional as F\n",
    "from sklearn.metrics import confusion_matrix\n",
    "from tqdm import tqdm"
   ]
  },
  {
   "cell_type": "code",
   "execution_count": 3,
   "metadata": {
    "colab": {
     "base_uri": "https://localhost:8080/"
    },
    "id": "HNHLKpORrMS_",
    "outputId": "965257b0-bd90-4086-e25b-9b77c15d917b"
   },
   "outputs": [
    {
     "name": "stdout",
     "output_type": "stream",
     "text": [
      "this notebook is using device: cuda\n"
     ]
    }
   ],
   "source": [
    "class Config:\n",
    "  def __init__(self):\n",
    "    self.ROOT_DATA_DIR = \"FashionMNISTDir\"\n",
    "    self.EPOCH = 10\n",
    "    self.BATCH_SIZE = 32\n",
    "    self.LEARNING_RATE = 0.01\n",
    "    self.IMAGE_SIZE = (28, 28)\n",
    "    self.DEVICE = \"cuda\" if torch.cuda.is_available() else \"cpu\"\n",
    "    print(f\"this notebook is using device: {self.DEVICE}\")\n",
    "    self.SEED = 2022\n",
    "\n",
    "config = Config()"
   ]
  },
  {
   "cell_type": "code",
   "execution_count": 4,
   "metadata": {
    "colab": {
     "base_uri": "https://localhost:8080/",
     "height": 443,
     "referenced_widgets": [
      "e8838194239c4e7eb4007814c4efcbca",
      "064e93deeffe4486bb45d3fd3f9dd064",
      "cd147a0f84074914ba8bc0c642adba59",
      "659eb5604f18407cb6d2322b3c5f5198",
      "61f2721057944197bb11e988c65ea034",
      "ab91240dbe844471993045034e6546f2",
      "7b1f527af6e64299827a85fb3ef69b0d",
      "16ddb7d5c0b640a9bbb172888b9a7b76",
      "3a0c67f02fd247e4a757a467bb898a7d",
      "8b52259f8363463a8e6d1113cb1674df",
      "7546fcb25c054aff93e9e5673000116c",
      "9829a50663b34a59961add78a67b09c0",
      "921dc877fe93456a9928cc7618ccc6d7",
      "dbea0ae366de46afaae5860c96a82f9b",
      "87b2f7aef9a44988ba19777420bcb700",
      "b07cbef631744842bacf05453f5752df",
      "1102ae473b684d8d9e99323c80d8d49a",
      "c9ddd8ba83c144358735b228e6e60fcd",
      "439cf778cf834b8295691d8c6d4c0400",
      "f9d3f60c64374df7a75ba2a5865c55fe",
      "c23f0327f09940ffa00bb3ee29b98360",
      "48b5cc791de1439ab48720b1a2c13808",
      "1ad26d7433394b278c2524fd65ef3eb3",
      "cf344cc7bab446a5b50a877d4efaef5f",
      "1a548852160640d5b12dee73658af465",
      "263f6a3c2ff94b4ca6cccbf32c4356fb",
      "d2d53f15a9fc4911a99bddcd456bba2d",
      "1f0e3fc16ff449f5a539bbbea161725c",
      "6177577e8b144b42916106f87b2457d2",
      "ab937c8d415c4e4f81a9170909c97a95",
      "3131e5c4d3b54f30bd61fae37679a93a",
      "b6a9ef9bd5f64987ac72e71ce144697d",
      "9af9116a6abb41c88167aeffe92a1d34",
      "69ee1988b2134cc486605b85b6a1557f",
      "f02b31ac16eb4b03a4fc1186e390fb79",
      "299c5cb7d3e8469993173be2c4d4b2e6",
      "86d09736e61a41f29c4881e5c361b3a7",
      "67f393d387d44418ae9fc0c745f21681",
      "25cf4f21d922460a82578e982c59d2f4",
      "820f186c44ac4d889edd5e8ff429d24e",
      "310cc34f961943fda16de686ca3d79ea",
      "62c0dc4522584e40a9d0c2e251b5259a",
      "317b1b64752b4095bc464a4f66398bea",
      "3e0d6d355e9847d5be68073e01d1493a"
     ]
    },
    "id": "1WktFbXRrXFe",
    "outputId": "2bc269c4-2117-47ba-de56-fa0e315e86f8"
   },
   "outputs": [],
   "source": [
    "train_data = datasets.FashionMNIST(\n",
    "    root = config.ROOT_DATA_DIR,\n",
    "    train = True,\n",
    "    download = True,\n",
    "    transform = transforms.ToTensor()\n",
    ")\n",
    "\n",
    "test_data = datasets.FashionMNIST(\n",
    "    root = config.ROOT_DATA_DIR,\n",
    "    train = False,\n",
    "    download = True,\n",
    "    transform = transforms.ToTensor()\n",
    ")"
   ]
  },
  {
   "cell_type": "code",
   "execution_count": 5,
   "metadata": {
    "colab": {
     "base_uri": "https://localhost:8080/"
    },
    "id": "pf-XLXqksJpc",
    "outputId": "3fe6e599-82de-4b68-85cc-90e8e18a9229"
   },
   "outputs": [
    {
     "data": {
      "text/plain": [
       "torch.Size([60000, 28, 28])"
      ]
     },
     "execution_count": 5,
     "metadata": {},
     "output_type": "execute_result"
    }
   ],
   "source": [
    "train_data.data.shape"
   ]
  },
  {
   "cell_type": "code",
   "execution_count": 6,
   "metadata": {
    "colab": {
     "base_uri": "https://localhost:8080/"
    },
    "id": "mZiOmW09s-R1",
    "outputId": "63e14dd1-c247-4a07-f86f-f490633dac17"
   },
   "outputs": [
    {
     "data": {
      "text/plain": [
       "torch.Size([10000, 28, 28])"
      ]
     },
     "execution_count": 6,
     "metadata": {},
     "output_type": "execute_result"
    }
   ],
   "source": [
    "test_data.data.shape\n"
   ]
  },
  {
   "cell_type": "code",
   "execution_count": 7,
   "metadata": {
    "colab": {
     "base_uri": "https://localhost:8080/"
    },
    "id": "PE3ZuHv_tApr",
    "outputId": "e209c77b-3715-4601-dfd6-a10fc546bc28"
   },
   "outputs": [
    {
     "data": {
      "text/plain": [
       "{'T-shirt/top': 0,\n",
       " 'Trouser': 1,\n",
       " 'Pullover': 2,\n",
       " 'Dress': 3,\n",
       " 'Coat': 4,\n",
       " 'Sandal': 5,\n",
       " 'Shirt': 6,\n",
       " 'Sneaker': 7,\n",
       " 'Bag': 8,\n",
       " 'Ankle boot': 9}"
      ]
     },
     "execution_count": 7,
     "metadata": {},
     "output_type": "execute_result"
    }
   ],
   "source": [
    "train_data.class_to_idx"
   ]
  },
  {
   "cell_type": "code",
   "execution_count": 8,
   "metadata": {
    "colab": {
     "base_uri": "https://localhost:8080/"
    },
    "id": "478ESUkstKRT",
    "outputId": "7f15c5be-2e21-4144-b0bf-7db3d475d46b"
   },
   "outputs": [
    {
     "data": {
      "text/plain": [
       "tensor([9, 0, 0,  ..., 3, 0, 5])"
      ]
     },
     "execution_count": 8,
     "metadata": {},
     "output_type": "execute_result"
    }
   ],
   "source": [
    "train_data.targets"
   ]
  },
  {
   "cell_type": "code",
   "execution_count": 9,
   "metadata": {
    "colab": {
     "base_uri": "https://localhost:8080/"
    },
    "id": "Gm9t1pcFtRm8",
    "outputId": "e9babb03-c1e0-41a4-98d2-200dc9986d22"
   },
   "outputs": [
    {
     "data": {
      "text/plain": [
       "{'T-shirt/top': 0,\n",
       " 'Trouser': 1,\n",
       " 'Pullover': 2,\n",
       " 'Dress': 3,\n",
       " 'Coat': 4,\n",
       " 'Sandal': 5,\n",
       " 'Shirt': 6,\n",
       " 'Sneaker': 7,\n",
       " 'Bag': 8,\n",
       " 'Ankle boot': 9}"
      ]
     },
     "execution_count": 9,
     "metadata": {},
     "output_type": "execute_result"
    }
   ],
   "source": [
    "given_label_map = train_data.class_to_idx\n",
    "given_label_map"
   ]
  },
  {
   "cell_type": "code",
   "execution_count": 10,
   "metadata": {
    "colab": {
     "base_uri": "https://localhost:8080/"
    },
    "id": "zg5StYMetoal",
    "outputId": "6935f32b-a0c2-47b7-ea4c-e88568984e3e"
   },
   "outputs": [
    {
     "data": {
      "text/plain": [
       "{0: 'T-shirt/top',\n",
       " 1: 'Trouser',\n",
       " 2: 'Pullover',\n",
       " 3: 'Dress',\n",
       " 4: 'Coat',\n",
       " 5: 'Sandal',\n",
       " 6: 'Shirt',\n",
       " 7: 'Sneaker',\n",
       " 8: 'Bag',\n",
       " 9: 'Ankle boot'}"
      ]
     },
     "execution_count": 10,
     "metadata": {},
     "output_type": "execute_result"
    }
   ],
   "source": [
    "label_map = {val: key for key, val in given_label_map.items()}\n",
    "label_map"
   ]
  },
  {
   "cell_type": "markdown",
   "metadata": {
    "id": "ObOyQsE5t8zr"
   },
   "source": [
    "## Visualize one of the samples"
   ]
  },
  {
   "cell_type": "code",
   "execution_count": 11,
   "metadata": {
    "colab": {
     "base_uri": "https://localhost:8080/",
     "height": 264
    },
    "id": "bv_rU9cCt3sj",
    "outputId": "ef840905-4f79-4a46-a9dc-265ea706c16e"
   },
   "outputs": [
    {
     "data": {
      "image/png": "[encoded data removed]",
      "text/plain": [
       "<Figure size 640x480 with 1 Axes>"
      ]
     },
     "metadata": {},
     "output_type": "display_data"
    }
   ],
   "source": [
    "def view_sample_img(data, idx, label_map):\n",
    "  plt.imshow(data.data[idx], cmap=\"gray\")\n",
    "  plt.title(f\"data label: {label_map[data.targets[idx].item()]}\")\n",
    "  plt.axis(\"off\")\n",
    "\n",
    "view_sample_img(train_data, 7, label_map)"
   ]
  },
  {
   "cell_type": "markdown",
   "metadata": {
    "id": "vHkuh8GFvGCi"
   },
   "source": [
    "## Create the dataloader"
   ]
  },
  {
   "cell_type": "code",
   "execution_count": 12,
   "metadata": {
    "id": "ZaidkURJuHQL"
   },
   "outputs": [],
   "source": [
    "train_data_loader = DataLoader(\n",
    "    dataset = train_data,\n",
    "    batch_size = config.BATCH_SIZE,\n",
    "    shuffle = True\n",
    ")\n",
    "\n",
    "test_data_loader = DataLoader(\n",
    "    dataset = test_data,\n",
    "    batch_size = config.BATCH_SIZE,\n",
    "    shuffle = False\n",
    ")"
   ]
  },
  {
   "cell_type": "code",
   "execution_count": 13,
   "metadata": {
    "colab": {
     "base_uri": "https://localhost:8080/"
    },
    "id": "bXnEsD1UveQY",
    "outputId": "0e6770a1-b519-428e-9edf-a7462dd77f55"
   },
   "outputs": [
    {
     "name": "stdout",
     "output_type": "stream",
     "text": [
      "torch.Size([32, 1, 28, 28])\n",
      "torch.Size([32])\n"
     ]
    }
   ],
   "source": [
    "for images, labels in train_data_loader:\n",
    "  print(images.shape)\n",
    "  print(labels.shape)\n",
    "  break"
   ]
  },
  {
   "cell_type": "code",
   "execution_count": 14,
   "metadata": {
    "colab": {
     "base_uri": "https://localhost:8080/"
    },
    "id": "KfCxMOg6vupb",
    "outputId": "87427bb5-7950-4d7b-a4dc-58aee1a7aa8b"
   },
   "outputs": [
    {
     "data": {
      "text/plain": [
       "torch.Size([1, 28, 28])"
      ]
     },
     "execution_count": 14,
     "metadata": {},
     "output_type": "execute_result"
    }
   ],
   "source": [
    "images[0].shape"
   ]
  },
  {
   "cell_type": "code",
   "execution_count": 15,
   "metadata": {
    "colab": {
     "base_uri": "https://localhost:8080/"
    },
    "id": "YNPBeELzwOJ6",
    "outputId": "0628b9fb-cfe9-48fe-8574-d70b6fce5a96"
   },
   "outputs": [
    {
     "data": {
      "text/plain": [
       "torch.Size([28, 28])"
      ]
     },
     "execution_count": 15,
     "metadata": {},
     "output_type": "execute_result"
    }
   ],
   "source": [
    "images[0].squeeze().shape"
   ]
  },
  {
   "cell_type": "code",
   "execution_count": 16,
   "metadata": {
    "colab": {
     "base_uri": "https://localhost:8080/"
    },
    "id": "CbobFJhowhW7",
    "outputId": "813e76f8-cd31-432a-da9d-fad265fe00e2"
   },
   "outputs": [
    {
     "data": {
      "text/plain": [
       "array([[0.        , 0.        , 0.        , 0.        , 0.        ,\n",
       "        0.        , 0.00784314, 0.01176471, 0.00392157, 0.        ,\n",
       "        0.        , 0.13333334, 0.4627451 , 0.16078432, 0.10588235,\n",
       "        0.17254902, 0.45490196, 0.04313726, 0.        , 0.        ,\n",
       "        0.01176471, 0.01568628, 0.        , 0.        , 0.        ,\n",
       "        0.        , 0.        , 0.        ],\n",
       "       [0.        , 0.        , 0.        , 0.        , 0.        ,\n",
       "        0.00784314, 0.        , 0.        , 0.        , 0.        ,\n",
       "        0.        , 0.9764706 , 0.9764706 , 0.9647059 , 0.9764706 ,\n",
       "        0.9529412 , 1.        , 0.7058824 , 0.        , 0.        ,\n",
       "        0.        , 0.        , 0.00784314, 0.00392157, 0.        ,\n",
       "        0.        , 0.        , 0.        ],\n",
       "       [0.        , 0.        , 0.        , 0.        , 0.        ,\n",
       "        0.        , 0.        , 0.19215687, 0.4627451 , 0.77254903,\n",
       "        0.8784314 , 0.9137255 , 0.8862745 , 0.827451  , 0.7882353 ,\n",
       "        0.9529412 , 0.9098039 , 0.8784314 , 0.96862745, 0.7490196 ,\n",
       "        0.36862746, 0.01960784, 0.        , 0.        , 0.        ,\n",
       "        0.        , 0.        , 0.        ],\n",
       "       [0.        , 0.        , 0.        , 0.        , 0.        ,\n",
       "        0.        , 0.7411765 , 0.93333334, 0.9411765 , 0.92941177,\n",
       "        0.8980392 , 0.8745098 , 0.90588236, 0.827451  , 0.7882353 ,\n",
       "        0.9647059 , 0.8901961 , 0.85882354, 0.8862745 , 0.93333334,\n",
       "        0.94509804, 0.8901961 , 0.53333336, 0.        , 0.        ,\n",
       "        0.        , 0.        , 0.        ],\n",
       "       [0.        , 0.        , 0.        , 0.        , 0.        ,\n",
       "        0.6117647 , 0.972549  , 0.85882354, 0.87058824, 0.8745098 ,\n",
       "        0.8862745 , 0.89411765, 0.88235295, 0.92156863, 0.95686275,\n",
       "        0.9019608 , 0.8980392 , 0.8862745 , 0.8745098 , 0.8666667 ,\n",
       "        0.85882354, 0.8666667 , 0.9647059 , 0.39215687, 0.        ,\n",
       "        0.        , 0.        , 0.        ],\n",
       "       [0.        , 0.        , 0.        , 0.        , 0.        ,\n",
       "        0.827451  , 0.8901961 , 0.8784314 , 0.8862745 , 0.89411765,\n",
       "        0.88235295, 0.8784314 , 0.88235295, 0.8862745 , 0.84313726,\n",
       "        0.8784314 , 0.88235295, 0.8784314 , 0.8666667 , 0.8784314 ,\n",
       "        0.8784314 , 0.8627451 , 0.8862745 , 0.79607844, 0.        ,\n",
       "        0.        , 0.        , 0.        ],\n",
       "       [0.        , 0.        , 0.        , 0.        , 0.02745098,\n",
       "        0.89411765, 0.8901961 , 0.8862745 , 0.88235295, 0.88235295,\n",
       "        0.88235295, 0.88235295, 0.88235295, 0.88235295, 0.8862745 ,\n",
       "        0.88235295, 0.88235295, 0.8784314 , 0.88235295, 0.88235295,\n",
       "        0.8784314 , 0.87058824, 0.8627451 , 0.89411765, 0.07058824,\n",
       "        0.        , 0.        , 0.        ],\n",
       "       [0.        , 0.        , 0.        , 0.        , 0.31764707,\n",
       "        0.93333334, 0.88235295, 0.89411765, 0.8901961 , 0.8784314 ,\n",
       "        0.8784314 , 0.88235295, 0.88235295, 0.88235295, 0.88235295,\n",
       "        0.88235295, 0.88235295, 0.88235295, 0.8784314 , 0.8745098 ,\n",
       "        0.87058824, 0.8666667 , 0.87058824, 0.9098039 , 0.2509804 ,\n",
       "        0.        , 0.        , 0.        ],\n",
       "       [0.        , 0.        , 0.        , 0.        , 0.41960785,\n",
       "        0.92941177, 0.8862745 , 0.9254902 , 0.8980392 , 0.8862745 ,\n",
       "        0.88235295, 0.88235295, 0.88235295, 0.88235295, 0.88235295,\n",
       "        0.88235295, 0.88235295, 0.88235295, 0.8784314 , 0.87058824,\n",
       "        0.8509804 , 0.87058824, 0.88235295, 0.91764706, 0.47058824,\n",
       "        0.        , 0.        , 0.        ],\n",
       "       [0.        , 0.        , 0.        , 0.        , 0.6509804 ,\n",
       "        0.90588236, 0.8784314 , 0.92156863, 0.9137255 , 0.8980392 ,\n",
       "        0.88235295, 0.8862745 , 0.8862745 , 0.8862745 , 0.88235295,\n",
       "        0.88235295, 0.88235295, 0.88235295, 0.8901961 , 0.8666667 ,\n",
       "        0.84705883, 0.8980392 , 0.8666667 , 0.8862745 , 0.69411767,\n",
       "        0.        , 0.        , 0.        ],\n",
       "       [0.        , 0.        , 0.        , 0.        , 0.7921569 ,\n",
       "        0.94509804, 0.9098039 , 0.9529412 , 0.91764706, 0.88235295,\n",
       "        0.8862745 , 0.8862745 , 0.8862745 , 0.8862745 , 0.88235295,\n",
       "        0.88235295, 0.88235295, 0.89411765, 0.8901961 , 0.85490197,\n",
       "        0.8745098 , 0.94509804, 0.9254902 , 0.95686275, 0.76862746,\n",
       "        0.        , 0.        , 0.        ],\n",
       "       [0.        , 0.        , 0.        , 0.        , 0.42745098,\n",
       "        0.8862745 , 0.96862745, 0.6039216 , 0.88235295, 0.89411765,\n",
       "        0.88235295, 0.8862745 , 0.8862745 , 0.8862745 , 0.88235295,\n",
       "        0.88235295, 0.8784314 , 0.8901961 , 0.87058824, 0.8980392 ,\n",
       "        0.77254903, 0.5568628 , 0.9019608 , 0.6392157 , 0.2       ,\n",
       "        0.        , 0.        , 0.        ],\n",
       "       [0.        , 0.        , 0.        , 0.        , 0.        ,\n",
       "        0.        , 0.        , 0.        , 1.        , 0.88235295,\n",
       "        0.8862745 , 0.8862745 , 0.8862745 , 0.8862745 , 0.8862745 ,\n",
       "        0.8862745 , 0.8862745 , 0.8862745 , 0.87058824, 0.8627451 ,\n",
       "        0.92941177, 0.        , 0.        , 0.        , 0.        ,\n",
       "        0.        , 0.        , 0.        ],\n",
       "       [0.        , 0.        , 0.        , 0.        , 0.        ,\n",
       "        0.        , 0.        , 0.        , 1.        , 0.8901961 ,\n",
       "        0.8862745 , 0.8862745 , 0.8862745 , 0.8862745 , 0.8862745 ,\n",
       "        0.8862745 , 0.8862745 , 0.88235295, 0.8784314 , 0.8627451 ,\n",
       "        0.9411765 , 0.        , 0.        , 0.00784314, 0.00784314,\n",
       "        0.        , 0.        , 0.        ],\n",
       "       [0.        , 0.        , 0.        , 0.        , 0.        ,\n",
       "        0.00784314, 0.        , 0.        , 0.83137256, 0.8980392 ,\n",
       "        0.88235295, 0.8862745 , 0.8862745 , 0.8862745 , 0.8862745 ,\n",
       "        0.8862745 , 0.8862745 , 0.8784314 , 0.8745098 , 0.8627451 ,\n",
       "        0.92156863, 0.        , 0.        , 0.00784314, 0.        ,\n",
       "        0.        , 0.        , 0.        ],\n",
       "       [0.        , 0.        , 0.        , 0.        , 0.        ,\n",
       "        0.00784314, 0.        , 0.        , 0.8156863 , 0.89411765,\n",
       "        0.88235295, 0.8862745 , 0.8862745 , 0.8901961 , 0.8862745 ,\n",
       "        0.8862745 , 0.8901961 , 0.8745098 , 0.8784314 , 0.85490197,\n",
       "        0.7882353 , 0.        , 0.        , 0.01176471, 0.        ,\n",
       "        0.        , 0.        , 0.        ],\n",
       "       [0.        , 0.        , 0.        , 0.        , 0.        ,\n",
       "        0.01176471, 0.        , 0.        , 0.827451  , 0.8901961 ,\n",
       "        0.88235295, 0.8862745 , 0.8901961 , 0.89411765, 0.8862745 ,\n",
       "        0.8862745 , 0.8901961 , 0.8784314 , 0.8784314 , 0.85490197,\n",
       "        0.8       , 0.        , 0.        , 0.01176471, 0.        ,\n",
       "        0.        , 0.        , 0.        ],\n",
       "       [0.        , 0.        , 0.        , 0.        , 0.        ,\n",
       "        0.01176471, 0.        , 0.        , 0.8509804 , 0.8901961 ,\n",
       "        0.88235295, 0.8862745 , 0.88235295, 0.88235295, 0.8862745 ,\n",
       "        0.8862745 , 0.8862745 , 0.8784314 , 0.8745098 , 0.8627451 ,\n",
       "        0.8039216 , 0.        , 0.        , 0.01568628, 0.        ,\n",
       "        0.        , 0.        , 0.        ],\n",
       "       [0.        , 0.        , 0.        , 0.        , 0.        ,\n",
       "        0.01568628, 0.        , 0.        , 0.8745098 , 0.8901961 ,\n",
       "        0.8862745 , 0.8862745 , 0.8784314 , 0.8784314 , 0.88235295,\n",
       "        0.88235295, 0.88235295, 0.8784314 , 0.87058824, 0.87058824,\n",
       "        0.80784315, 0.        , 0.        , 0.01568628, 0.        ,\n",
       "        0.        , 0.        , 0.        ],\n",
       "       [0.        , 0.        , 0.        , 0.        , 0.        ,\n",
       "        0.01568628, 0.        , 0.        , 0.8784314 , 0.88235295,\n",
       "        0.88235295, 0.88235295, 0.88235295, 0.88235295, 0.88235295,\n",
       "        0.8745098 , 0.8862745 , 0.8901961 , 0.8745098 , 0.8784314 ,\n",
       "        0.8156863 , 0.        , 0.        , 0.01568628, 0.        ,\n",
       "        0.        , 0.        , 0.        ],\n",
       "       [0.        , 0.        , 0.        , 0.        , 0.        ,\n",
       "        0.01960784, 0.        , 0.03921569, 0.88235295, 0.8784314 ,\n",
       "        0.8784314 , 0.88235295, 0.88235295, 0.88235295, 0.88235295,\n",
       "        0.8745098 , 0.8862745 , 0.8901961 , 0.8745098 , 0.8784314 ,\n",
       "        0.81960785, 0.        , 0.        , 0.01568628, 0.        ,\n",
       "        0.        , 0.        , 0.        ],\n",
       "       [0.        , 0.        , 0.        , 0.        , 0.        ,\n",
       "        0.01960784, 0.        , 0.08235294, 0.8862745 , 0.87058824,\n",
       "        0.88235295, 0.88235295, 0.88235295, 0.88235295, 0.8784314 ,\n",
       "        0.8745098 , 0.8862745 , 0.8901961 , 0.8784314 , 0.8745098 ,\n",
       "        0.83137256, 0.        , 0.        , 0.01568628, 0.        ,\n",
       "        0.        , 0.        , 0.        ],\n",
       "       [0.        , 0.        , 0.        , 0.        , 0.        ,\n",
       "        0.02352941, 0.        , 0.12941177, 0.89411765, 0.8666667 ,\n",
       "        0.8784314 , 0.88235295, 0.88235295, 0.88235295, 0.8862745 ,\n",
       "        0.8784314 , 0.8862745 , 0.8901961 , 0.8784314 , 0.8745098 ,\n",
       "        0.84705883, 0.        , 0.        , 0.01568628, 0.        ,\n",
       "        0.        , 0.        , 0.        ],\n",
       "       [0.        , 0.        , 0.        , 0.        , 0.        ,\n",
       "        0.02745098, 0.        , 0.2627451 , 0.9137255 , 0.8666667 ,\n",
       "        0.8862745 , 0.88235295, 0.88235295, 0.88235295, 0.8901961 ,\n",
       "        0.88235295, 0.88235295, 0.8980392 , 0.88235295, 0.8745098 ,\n",
       "        0.8627451 , 0.03529412, 0.        , 0.01568628, 0.        ,\n",
       "        0.        , 0.        , 0.        ],\n",
       "       [0.        , 0.        , 0.        , 0.        , 0.        ,\n",
       "        0.01568628, 0.        , 0.4392157 , 0.93333334, 0.8627451 ,\n",
       "        0.8862745 , 0.8784314 , 0.8784314 , 0.8784314 , 0.88235295,\n",
       "        0.8745098 , 0.8745098 , 0.89411765, 0.88235295, 0.87058824,\n",
       "        0.88235295, 0.09803922, 0.        , 0.01960784, 0.        ,\n",
       "        0.        , 0.        , 0.        ],\n",
       "       [0.        , 0.        , 0.        , 0.        , 0.        ,\n",
       "        0.00784314, 0.        , 0.54509807, 0.91764706, 0.84705883,\n",
       "        0.8627451 , 0.8666667 , 0.8745098 , 0.8745098 , 0.87058824,\n",
       "        0.8666667 , 0.8666667 , 0.8784314 , 0.87058824, 0.8509804 ,\n",
       "        0.8862745 , 0.14901961, 0.        , 0.02352941, 0.        ,\n",
       "        0.        , 0.        , 0.        ],\n",
       "       [0.        , 0.        , 0.        , 0.        , 0.        ,\n",
       "        0.02745098, 0.        , 0.73333335, 0.9843137 , 0.8862745 ,\n",
       "        0.9372549 , 0.9137255 , 0.89411765, 0.88235295, 0.8784314 ,\n",
       "        0.8784314 , 0.8745098 , 0.89411765, 0.91764706, 0.8784314 ,\n",
       "        0.95686275, 0.28235295, 0.        , 0.02745098, 0.        ,\n",
       "        0.        , 0.        , 0.        ],\n",
       "       [0.        , 0.        , 0.        , 0.        , 0.        ,\n",
       "        0.01960784, 0.        , 0.39215687, 0.70980394, 0.7137255 ,\n",
       "        0.75686276, 0.8       , 0.827451  , 0.85882354, 0.8862745 ,\n",
       "        0.8784314 , 0.8901961 , 0.8509804 , 0.8156863 , 0.79607844,\n",
       "        0.80784315, 0.18039216, 0.        , 0.02352941, 0.        ,\n",
       "        0.        , 0.        , 0.        ]], dtype=float32)"
      ]
     },
     "execution_count": 16,
     "metadata": {},
     "output_type": "execute_result"
    }
   ],
   "source": [
    "images[0].squeeze().numpy()"
   ]
  },
  {
   "cell_type": "code",
   "execution_count": 17,
   "metadata": {
    "colab": {
     "base_uri": "https://localhost:8080/",
     "height": 282
    },
    "id": "artpQMtTv8M6",
    "outputId": "6888bc06-afee-4132-83dc-c09ee637c8c2"
   },
   "outputs": [
    {
     "data": {
      "text/plain": [
       "<matplotlib.image.AxesImage at 0x20cb8d76dd0>"
      ]
     },
     "execution_count": 17,
     "metadata": {},
     "output_type": "execute_result"
    },
    {
     "data": {
      "image/png": "[encoded data removed]",
      "text/plain": [
       "<Figure size 640x480 with 1 Axes>"
      ]
     },
     "metadata": {},
     "output_type": "display_data"
    }
   ],
   "source": [
    "plt.imshow(images[0].squeeze(), cmap=\"gray\")"
   ]
  },
  {
   "cell_type": "code",
   "execution_count": 18,
   "metadata": {
    "colab": {
     "base_uri": "https://localhost:8080/"
    },
    "id": "yYeIWTwGwGfh",
    "outputId": "cf46486d-1a4a-4e33-e43f-eaa591740912"
   },
   "outputs": [
    {
     "data": {
      "text/plain": [
       "(torch.Size([1, 28, 28]), torch.Size([28, 28]), torch.Size([1, 1, 28, 28]))"
      ]
     },
     "execution_count": 18,
     "metadata": {},
     "output_type": "execute_result"
    }
   ],
   "source": [
    "images[0].shape, images[0].squeeze().shape, images[0].unsqueeze(dim=1).shape"
   ]
  },
  {
   "cell_type": "code",
   "execution_count": 19,
   "metadata": {
    "colab": {
     "base_uri": "https://localhost:8080/"
    },
    "id": "7bjcwdwqw_II",
    "outputId": "b18f7c09-e4df-423f-aeeb-7323aa7914ef"
   },
   "outputs": [
    {
     "data": {
      "text/plain": [
       "torch.Size([28, 28])"
      ]
     },
     "execution_count": 19,
     "metadata": {},
     "output_type": "execute_result"
    }
   ],
   "source": [
    "images[0][0].shape"
   ]
  },
  {
   "cell_type": "code",
   "execution_count": 20,
   "metadata": {
    "colab": {
     "base_uri": "https://localhost:8080/"
    },
    "id": "Ujzcfrk1w0Bq",
    "outputId": "bbdd162d-c76f-4e54-cc14-a59f8184fc79"
   },
   "outputs": [
    {
     "data": {
      "text/plain": [
       "tensor([[0.0000, 0.0000, 0.0000, 0.0000, 0.0000, 0.0000, 0.0078, 0.0118, 0.0039,\n",
       "         0.0000, 0.0000, 0.1333, 0.4627, 0.1608, 0.1059, 0.1725, 0.4549, 0.0431,\n",
       "         0.0000, 0.0000, 0.0118, 0.0157, 0.0000, 0.0000, 0.0000, 0.0000, 0.0000,\n",
       "         0.0000],\n",
       "        [0.0000, 0.0000, 0.0000, 0.0000, 0.0000, 0.0078, 0.0000, 0.0000, 0.0000,\n",
       "         0.0000, 0.0000, 0.9765, 0.9765, 0.9647, 0.9765, 0.9529, 1.0000, 0.7059,\n",
       "         0.0000, 0.0000, 0.0000, 0.0000, 0.0078, 0.0039, 0.0000, 0.0000, 0.0000,\n",
       "         0.0000],\n",
       "        [0.0000, 0.0000, 0.0000, 0.0000, 0.0000, 0.0000, 0.0000, 0.1922, 0.4627,\n",
       "         0.7725, 0.8784, 0.9137, 0.8863, 0.8275, 0.7882, 0.9529, 0.9098, 0.8784,\n",
       "         0.9686, 0.7490, 0.3686, 0.0196, 0.0000, 0.0000, 0.0000, 0.0000, 0.0000,\n",
       "         0.0000],\n",
       "        [0.0000, 0.0000, 0.0000, 0.0000, 0.0000, 0.0000, 0.7412, 0.9333, 0.9412,\n",
       "         0.9294, 0.8980, 0.8745, 0.9059, 0.8275, 0.7882, 0.9647, 0.8902, 0.8588,\n",
       "         0.8863, 0.9333, 0.9451, 0.8902, 0.5333, 0.0000, 0.0000, 0.0000, 0.0000,\n",
       "         0.0000],\n",
       "        [0.0000, 0.0000, 0.0000, 0.0000, 0.0000, 0.6118, 0.9725, 0.8588, 0.8706,\n",
       "         0.8745, 0.8863, 0.8941, 0.8824, 0.9216, 0.9569, 0.9020, 0.8980, 0.8863,\n",
       "         0.8745, 0.8667, 0.8588, 0.8667, 0.9647, 0.3922, 0.0000, 0.0000, 0.0000,\n",
       "         0.0000],\n",
       "        [0.0000, 0.0000, 0.0000, 0.0000, 0.0000, 0.8275, 0.8902, 0.8784, 0.8863,\n",
       "         0.8941, 0.8824, 0.8784, 0.8824, 0.8863, 0.8431, 0.8784, 0.8824, 0.8784,\n",
       "         0.8667, 0.8784, 0.8784, 0.8627, 0.8863, 0.7961, 0.0000, 0.0000, 0.0000,\n",
       "         0.0000],\n",
       "        [0.0000, 0.0000, 0.0000, 0.0000, 0.0275, 0.8941, 0.8902, 0.8863, 0.8824,\n",
       "         0.8824, 0.8824, 0.8824, 0.8824, 0.8824, 0.8863, 0.8824, 0.8824, 0.8784,\n",
       "         0.8824, 0.8824, 0.8784, 0.8706, 0.8627, 0.8941, 0.0706, 0.0000, 0.0000,\n",
       "         0.0000],\n",
       "        [0.0000, 0.0000, 0.0000, 0.0000, 0.3176, 0.9333, 0.8824, 0.8941, 0.8902,\n",
       "         0.8784, 0.8784, 0.8824, 0.8824, 0.8824, 0.8824, 0.8824, 0.8824, 0.8824,\n",
       "         0.8784, 0.8745, 0.8706, 0.8667, 0.8706, 0.9098, 0.2510, 0.0000, 0.0000,\n",
       "         0.0000],\n",
       "        [0.0000, 0.0000, 0.0000, 0.0000, 0.4196, 0.9294, 0.8863, 0.9255, 0.8980,\n",
       "         0.8863, 0.8824, 0.8824, 0.8824, 0.8824, 0.8824, 0.8824, 0.8824, 0.8824,\n",
       "         0.8784, 0.8706, 0.8510, 0.8706, 0.8824, 0.9176, 0.4706, 0.0000, 0.0000,\n",
       "         0.0000],\n",
       "        [0.0000, 0.0000, 0.0000, 0.0000, 0.6510, 0.9059, 0.8784, 0.9216, 0.9137,\n",
       "         0.8980, 0.8824, 0.8863, 0.8863, 0.8863, 0.8824, 0.8824, 0.8824, 0.8824,\n",
       "         0.8902, 0.8667, 0.8471, 0.8980, 0.8667, 0.8863, 0.6941, 0.0000, 0.0000,\n",
       "         0.0000],\n",
       "        [0.0000, 0.0000, 0.0000, 0.0000, 0.7922, 0.9451, 0.9098, 0.9529, 0.9176,\n",
       "         0.8824, 0.8863, 0.8863, 0.8863, 0.8863, 0.8824, 0.8824, 0.8824, 0.8941,\n",
       "         0.8902, 0.8549, 0.8745, 0.9451, 0.9255, 0.9569, 0.7686, 0.0000, 0.0000,\n",
       "         0.0000],\n",
       "        [0.0000, 0.0000, 0.0000, 0.0000, 0.4275, 0.8863, 0.9686, 0.6039, 0.8824,\n",
       "         0.8941, 0.8824, 0.8863, 0.8863, 0.8863, 0.8824, 0.8824, 0.8784, 0.8902,\n",
       "         0.8706, 0.8980, 0.7725, 0.5569, 0.9020, 0.6392, 0.2000, 0.0000, 0.0000,\n",
       "         0.0000],\n",
       "        [0.0000, 0.0000, 0.0000, 0.0000, 0.0000, 0.0000, 0.0000, 0.0000, 1.0000,\n",
       "         0.8824, 0.8863, 0.8863, 0.8863, 0.8863, 0.8863, 0.8863, 0.8863, 0.8863,\n",
       "         0.8706, 0.8627, 0.9294, 0.0000, 0.0000, 0.0000, 0.0000, 0.0000, 0.0000,\n",
       "         0.0000],\n",
       "        [0.0000, 0.0000, 0.0000, 0.0000, 0.0000, 0.0000, 0.0000, 0.0000, 1.0000,\n",
       "         0.8902, 0.8863, 0.8863, 0.8863, 0.8863, 0.8863, 0.8863, 0.8863, 0.8824,\n",
       "         0.8784, 0.8627, 0.9412, 0.0000, 0.0000, 0.0078, 0.0078, 0.0000, 0.0000,\n",
       "         0.0000],\n",
       "        [0.0000, 0.0000, 0.0000, 0.0000, 0.0000, 0.0078, 0.0000, 0.0000, 0.8314,\n",
       "         0.8980, 0.8824, 0.8863, 0.8863, 0.8863, 0.8863, 0.8863, 0.8863, 0.8784,\n",
       "         0.8745, 0.8627, 0.9216, 0.0000, 0.0000, 0.0078, 0.0000, 0.0000, 0.0000,\n",
       "         0.0000],\n",
       "        [0.0000, 0.0000, 0.0000, 0.0000, 0.0000, 0.0078, 0.0000, 0.0000, 0.8157,\n",
       "         0.8941, 0.8824, 0.8863, 0.8863, 0.8902, 0.8863, 0.8863, 0.8902, 0.8745,\n",
       "         0.8784, 0.8549, 0.7882, 0.0000, 0.0000, 0.0118, 0.0000, 0.0000, 0.0000,\n",
       "         0.0000],\n",
       "        [0.0000, 0.0000, 0.0000, 0.0000, 0.0000, 0.0118, 0.0000, 0.0000, 0.8275,\n",
       "         0.8902, 0.8824, 0.8863, 0.8902, 0.8941, 0.8863, 0.8863, 0.8902, 0.8784,\n",
       "         0.8784, 0.8549, 0.8000, 0.0000, 0.0000, 0.0118, 0.0000, 0.0000, 0.0000,\n",
       "         0.0000],\n",
       "        [0.0000, 0.0000, 0.0000, 0.0000, 0.0000, 0.0118, 0.0000, 0.0000, 0.8510,\n",
       "         0.8902, 0.8824, 0.8863, 0.8824, 0.8824, 0.8863, 0.8863, 0.8863, 0.8784,\n",
       "         0.8745, 0.8627, 0.8039, 0.0000, 0.0000, 0.0157, 0.0000, 0.0000, 0.0000,\n",
       "         0.0000],\n",
       "        [0.0000, 0.0000, 0.0000, 0.0000, 0.0000, 0.0157, 0.0000, 0.0000, 0.8745,\n",
       "         0.8902, 0.8863, 0.8863, 0.8784, 0.8784, 0.8824, 0.8824, 0.8824, 0.8784,\n",
       "         0.8706, 0.8706, 0.8078, 0.0000, 0.0000, 0.0157, 0.0000, 0.0000, 0.0000,\n",
       "         0.0000],\n",
       "        [0.0000, 0.0000, 0.0000, 0.0000, 0.0000, 0.0157, 0.0000, 0.0000, 0.8784,\n",
       "         0.8824, 0.8824, 0.8824, 0.8824, 0.8824, 0.8824, 0.8745, 0.8863, 0.8902,\n",
       "         0.8745, 0.8784, 0.8157, 0.0000, 0.0000, 0.0157, 0.0000, 0.0000, 0.0000,\n",
       "         0.0000],\n",
       "        [0.0000, 0.0000, 0.0000, 0.0000, 0.0000, 0.0196, 0.0000, 0.0392, 0.8824,\n",
       "         0.8784, 0.8784, 0.8824, 0.8824, 0.8824, 0.8824, 0.8745, 0.8863, 0.8902,\n",
       "         0.8745, 0.8784, 0.8196, 0.0000, 0.0000, 0.0157, 0.0000, 0.0000, 0.0000,\n",
       "         0.0000],\n",
       "        [0.0000, 0.0000, 0.0000, 0.0000, 0.0000, 0.0196, 0.0000, 0.0824, 0.8863,\n",
       "         0.8706, 0.8824, 0.8824, 0.8824, 0.8824, 0.8784, 0.8745, 0.8863, 0.8902,\n",
       "         0.8784, 0.8745, 0.8314, 0.0000, 0.0000, 0.0157, 0.0000, 0.0000, 0.0000,\n",
       "         0.0000],\n",
       "        [0.0000, 0.0000, 0.0000, 0.0000, 0.0000, 0.0235, 0.0000, 0.1294, 0.8941,\n",
       "         0.8667, 0.8784, 0.8824, 0.8824, 0.8824, 0.8863, 0.8784, 0.8863, 0.8902,\n",
       "         0.8784, 0.8745, 0.8471, 0.0000, 0.0000, 0.0157, 0.0000, 0.0000, 0.0000,\n",
       "         0.0000],\n",
       "        [0.0000, 0.0000, 0.0000, 0.0000, 0.0000, 0.0275, 0.0000, 0.2627, 0.9137,\n",
       "         0.8667, 0.8863, 0.8824, 0.8824, 0.8824, 0.8902, 0.8824, 0.8824, 0.8980,\n",
       "         0.8824, 0.8745, 0.8627, 0.0353, 0.0000, 0.0157, 0.0000, 0.0000, 0.0000,\n",
       "         0.0000],\n",
       "        [0.0000, 0.0000, 0.0000, 0.0000, 0.0000, 0.0157, 0.0000, 0.4392, 0.9333,\n",
       "         0.8627, 0.8863, 0.8784, 0.8784, 0.8784, 0.8824, 0.8745, 0.8745, 0.8941,\n",
       "         0.8824, 0.8706, 0.8824, 0.0980, 0.0000, 0.0196, 0.0000, 0.0000, 0.0000,\n",
       "         0.0000],\n",
       "        [0.0000, 0.0000, 0.0000, 0.0000, 0.0000, 0.0078, 0.0000, 0.5451, 0.9176,\n",
       "         0.8471, 0.8627, 0.8667, 0.8745, 0.8745, 0.8706, 0.8667, 0.8667, 0.8784,\n",
       "         0.8706, 0.8510, 0.8863, 0.1490, 0.0000, 0.0235, 0.0000, 0.0000, 0.0000,\n",
       "         0.0000],\n",
       "        [0.0000, 0.0000, 0.0000, 0.0000, 0.0000, 0.0275, 0.0000, 0.7333, 0.9843,\n",
       "         0.8863, 0.9373, 0.9137, 0.8941, 0.8824, 0.8784, 0.8784, 0.8745, 0.8941,\n",
       "         0.9176, 0.8784, 0.9569, 0.2824, 0.0000, 0.0275, 0.0000, 0.0000, 0.0000,\n",
       "         0.0000],\n",
       "        [0.0000, 0.0000, 0.0000, 0.0000, 0.0000, 0.0196, 0.0000, 0.3922, 0.7098,\n",
       "         0.7137, 0.7569, 0.8000, 0.8275, 0.8588, 0.8863, 0.8784, 0.8902, 0.8510,\n",
       "         0.8157, 0.7961, 0.8078, 0.1804, 0.0000, 0.0235, 0.0000, 0.0000, 0.0000,\n",
       "         0.0000]])"
      ]
     },
     "execution_count": 20,
     "metadata": {},
     "output_type": "execute_result"
    }
   ],
   "source": [
    "images[0].squeeze()"
   ]
  },
  {
   "cell_type": "code",
   "execution_count": 21,
   "metadata": {
    "colab": {
     "base_uri": "https://localhost:8080/"
    },
    "id": "xkgwC-bsxMER",
    "outputId": "e2b2a6db-d00f-438e-dd58-b549f81be5b1"
   },
   "outputs": [
    {
     "data": {
      "text/plain": [
       "tensor([[[[0.0000, 0.0000, 0.0000, 0.0000, 0.0000, 0.0000, 0.0078, 0.0118,\n",
       "           0.0039, 0.0000, 0.0000, 0.1333, 0.4627, 0.1608, 0.1059, 0.1725,\n",
       "           0.4549, 0.0431, 0.0000, 0.0000, 0.0118, 0.0157, 0.0000, 0.0000,\n",
       "           0.0000, 0.0000, 0.0000, 0.0000],\n",
       "          [0.0000, 0.0000, 0.0000, 0.0000, 0.0000, 0.0078, 0.0000, 0.0000,\n",
       "           0.0000, 0.0000, 0.0000, 0.9765, 0.9765, 0.9647, 0.9765, 0.9529,\n",
       "           1.0000, 0.7059, 0.0000, 0.0000, 0.0000, 0.0000, 0.0078, 0.0039,\n",
       "           0.0000, 0.0000, 0.0000, 0.0000],\n",
       "          [0.0000, 0.0000, 0.0000, 0.0000, 0.0000, 0.0000, 0.0000, 0.1922,\n",
       "           0.4627, 0.7725, 0.8784, 0.9137, 0.8863, 0.8275, 0.7882, 0.9529,\n",
       "           0.9098, 0.8784, 0.9686, 0.7490, 0.3686, 0.0196, 0.0000, 0.0000,\n",
       "           0.0000, 0.0000, 0.0000, 0.0000],\n",
       "          [0.0000, 0.0000, 0.0000, 0.0000, 0.0000, 0.0000, 0.7412, 0.9333,\n",
       "           0.9412, 0.9294, 0.8980, 0.8745, 0.9059, 0.8275, 0.7882, 0.9647,\n",
       "           0.8902, 0.8588, 0.8863, 0.9333, 0.9451, 0.8902, 0.5333, 0.0000,\n",
       "           0.0000, 0.0000, 0.0000, 0.0000],\n",
       "          [0.0000, 0.0000, 0.0000, 0.0000, 0.0000, 0.6118, 0.9725, 0.8588,\n",
       "           0.8706, 0.8745, 0.8863, 0.8941, 0.8824, 0.9216, 0.9569, 0.9020,\n",
       "           0.8980, 0.8863, 0.8745, 0.8667, 0.8588, 0.8667, 0.9647, 0.3922,\n",
       "           0.0000, 0.0000, 0.0000, 0.0000],\n",
       "          [0.0000, 0.0000, 0.0000, 0.0000, 0.0000, 0.8275, 0.8902, 0.8784,\n",
       "           0.8863, 0.8941, 0.8824, 0.8784, 0.8824, 0.8863, 0.8431, 0.8784,\n",
       "           0.8824, 0.8784, 0.8667, 0.8784, 0.8784, 0.8627, 0.8863, 0.7961,\n",
       "           0.0000, 0.0000, 0.0000, 0.0000],\n",
       "          [0.0000, 0.0000, 0.0000, 0.0000, 0.0275, 0.8941, 0.8902, 0.8863,\n",
       "           0.8824, 0.8824, 0.8824, 0.8824, 0.8824, 0.8824, 0.8863, 0.8824,\n",
       "           0.8824, 0.8784, 0.8824, 0.8824, 0.8784, 0.8706, 0.8627, 0.8941,\n",
       "           0.0706, 0.0000, 0.0000, 0.0000],\n",
       "          [0.0000, 0.0000, 0.0000, 0.0000, 0.3176, 0.9333, 0.8824, 0.8941,\n",
       "           0.8902, 0.8784, 0.8784, 0.8824, 0.8824, 0.8824, 0.8824, 0.8824,\n",
       "           0.8824, 0.8824, 0.8784, 0.8745, 0.8706, 0.8667, 0.8706, 0.9098,\n",
       "           0.2510, 0.0000, 0.0000, 0.0000],\n",
       "          [0.0000, 0.0000, 0.0000, 0.0000, 0.4196, 0.9294, 0.8863, 0.9255,\n",
       "           0.8980, 0.8863, 0.8824, 0.8824, 0.8824, 0.8824, 0.8824, 0.8824,\n",
       "           0.8824, 0.8824, 0.8784, 0.8706, 0.8510, 0.8706, 0.8824, 0.9176,\n",
       "           0.4706, 0.0000, 0.0000, 0.0000],\n",
       "          [0.0000, 0.0000, 0.0000, 0.0000, 0.6510, 0.9059, 0.8784, 0.9216,\n",
       "           0.9137, 0.8980, 0.8824, 0.8863, 0.8863, 0.8863, 0.8824, 0.8824,\n",
       "           0.8824, 0.8824, 0.8902, 0.8667, 0.8471, 0.8980, 0.8667, 0.8863,\n",
       "           0.6941, 0.0000, 0.0000, 0.0000],\n",
       "          [0.0000, 0.0000, 0.0000, 0.0000, 0.7922, 0.9451, 0.9098, 0.9529,\n",
       "           0.9176, 0.8824, 0.8863, 0.8863, 0.8863, 0.8863, 0.8824, 0.8824,\n",
       "           0.8824, 0.8941, 0.8902, 0.8549, 0.8745, 0.9451, 0.9255, 0.9569,\n",
       "           0.7686, 0.0000, 0.0000, 0.0000],\n",
       "          [0.0000, 0.0000, 0.0000, 0.0000, 0.4275, 0.8863, 0.9686, 0.6039,\n",
       "           0.8824, 0.8941, 0.8824, 0.8863, 0.8863, 0.8863, 0.8824, 0.8824,\n",
       "           0.8784, 0.8902, 0.8706, 0.8980, 0.7725, 0.5569, 0.9020, 0.6392,\n",
       "           0.2000, 0.0000, 0.0000, 0.0000],\n",
       "          [0.0000, 0.0000, 0.0000, 0.0000, 0.0000, 0.0000, 0.0000, 0.0000,\n",
       "           1.0000, 0.8824, 0.8863, 0.8863, 0.8863, 0.8863, 0.8863, 0.8863,\n",
       "           0.8863, 0.8863, 0.8706, 0.8627, 0.9294, 0.0000, 0.0000, 0.0000,\n",
       "           0.0000, 0.0000, 0.0000, 0.0000],\n",
       "          [0.0000, 0.0000, 0.0000, 0.0000, 0.0000, 0.0000, 0.0000, 0.0000,\n",
       "           1.0000, 0.8902, 0.8863, 0.8863, 0.8863, 0.8863, 0.8863, 0.8863,\n",
       "           0.8863, 0.8824, 0.8784, 0.8627, 0.9412, 0.0000, 0.0000, 0.0078,\n",
       "           0.0078, 0.0000, 0.0000, 0.0000],\n",
       "          [0.0000, 0.0000, 0.0000, 0.0000, 0.0000, 0.0078, 0.0000, 0.0000,\n",
       "           0.8314, 0.8980, 0.8824, 0.8863, 0.8863, 0.8863, 0.8863, 0.8863,\n",
       "           0.8863, 0.8784, 0.8745, 0.8627, 0.9216, 0.0000, 0.0000, 0.0078,\n",
       "           0.0000, 0.0000, 0.0000, 0.0000],\n",
       "          [0.0000, 0.0000, 0.0000, 0.0000, 0.0000, 0.0078, 0.0000, 0.0000,\n",
       "           0.8157, 0.8941, 0.8824, 0.8863, 0.8863, 0.8902, 0.8863, 0.8863,\n",
       "           0.8902, 0.8745, 0.8784, 0.8549, 0.7882, 0.0000, 0.0000, 0.0118,\n",
       "           0.0000, 0.0000, 0.0000, 0.0000],\n",
       "          [0.0000, 0.0000, 0.0000, 0.0000, 0.0000, 0.0118, 0.0000, 0.0000,\n",
       "           0.8275, 0.8902, 0.8824, 0.8863, 0.8902, 0.8941, 0.8863, 0.8863,\n",
       "           0.8902, 0.8784, 0.8784, 0.8549, 0.8000, 0.0000, 0.0000, 0.0118,\n",
       "           0.0000, 0.0000, 0.0000, 0.0000],\n",
       "          [0.0000, 0.0000, 0.0000, 0.0000, 0.0000, 0.0118, 0.0000, 0.0000,\n",
       "           0.8510, 0.8902, 0.8824, 0.8863, 0.8824, 0.8824, 0.8863, 0.8863,\n",
       "           0.8863, 0.8784, 0.8745, 0.8627, 0.8039, 0.0000, 0.0000, 0.0157,\n",
       "           0.0000, 0.0000, 0.0000, 0.0000],\n",
       "          [0.0000, 0.0000, 0.0000, 0.0000, 0.0000, 0.0157, 0.0000, 0.0000,\n",
       "           0.8745, 0.8902, 0.8863, 0.8863, 0.8784, 0.8784, 0.8824, 0.8824,\n",
       "           0.8824, 0.8784, 0.8706, 0.8706, 0.8078, 0.0000, 0.0000, 0.0157,\n",
       "           0.0000, 0.0000, 0.0000, 0.0000],\n",
       "          [0.0000, 0.0000, 0.0000, 0.0000, 0.0000, 0.0157, 0.0000, 0.0000,\n",
       "           0.8784, 0.8824, 0.8824, 0.8824, 0.8824, 0.8824, 0.8824, 0.8745,\n",
       "           0.8863, 0.8902, 0.8745, 0.8784, 0.8157, 0.0000, 0.0000, 0.0157,\n",
       "           0.0000, 0.0000, 0.0000, 0.0000],\n",
       "          [0.0000, 0.0000, 0.0000, 0.0000, 0.0000, 0.0196, 0.0000, 0.0392,\n",
       "           0.8824, 0.8784, 0.8784, 0.8824, 0.8824, 0.8824, 0.8824, 0.8745,\n",
       "           0.8863, 0.8902, 0.8745, 0.8784, 0.8196, 0.0000, 0.0000, 0.0157,\n",
       "           0.0000, 0.0000, 0.0000, 0.0000],\n",
       "          [0.0000, 0.0000, 0.0000, 0.0000, 0.0000, 0.0196, 0.0000, 0.0824,\n",
       "           0.8863, 0.8706, 0.8824, 0.8824, 0.8824, 0.8824, 0.8784, 0.8745,\n",
       "           0.8863, 0.8902, 0.8784, 0.8745, 0.8314, 0.0000, 0.0000, 0.0157,\n",
       "           0.0000, 0.0000, 0.0000, 0.0000],\n",
       "          [0.0000, 0.0000, 0.0000, 0.0000, 0.0000, 0.0235, 0.0000, 0.1294,\n",
       "           0.8941, 0.8667, 0.8784, 0.8824, 0.8824, 0.8824, 0.8863, 0.8784,\n",
       "           0.8863, 0.8902, 0.8784, 0.8745, 0.8471, 0.0000, 0.0000, 0.0157,\n",
       "           0.0000, 0.0000, 0.0000, 0.0000],\n",
       "          [0.0000, 0.0000, 0.0000, 0.0000, 0.0000, 0.0275, 0.0000, 0.2627,\n",
       "           0.9137, 0.8667, 0.8863, 0.8824, 0.8824, 0.8824, 0.8902, 0.8824,\n",
       "           0.8824, 0.8980, 0.8824, 0.8745, 0.8627, 0.0353, 0.0000, 0.0157,\n",
       "           0.0000, 0.0000, 0.0000, 0.0000],\n",
       "          [0.0000, 0.0000, 0.0000, 0.0000, 0.0000, 0.0157, 0.0000, 0.4392,\n",
       "           0.9333, 0.8627, 0.8863, 0.8784, 0.8784, 0.8784, 0.8824, 0.8745,\n",
       "           0.8745, 0.8941, 0.8824, 0.8706, 0.8824, 0.0980, 0.0000, 0.0196,\n",
       "           0.0000, 0.0000, 0.0000, 0.0000],\n",
       "          [0.0000, 0.0000, 0.0000, 0.0000, 0.0000, 0.0078, 0.0000, 0.5451,\n",
       "           0.9176, 0.8471, 0.8627, 0.8667, 0.8745, 0.8745, 0.8706, 0.8667,\n",
       "           0.8667, 0.8784, 0.8706, 0.8510, 0.8863, 0.1490, 0.0000, 0.0235,\n",
       "           0.0000, 0.0000, 0.0000, 0.0000],\n",
       "          [0.0000, 0.0000, 0.0000, 0.0000, 0.0000, 0.0275, 0.0000, 0.7333,\n",
       "           0.9843, 0.8863, 0.9373, 0.9137, 0.8941, 0.8824, 0.8784, 0.8784,\n",
       "           0.8745, 0.8941, 0.9176, 0.8784, 0.9569, 0.2824, 0.0000, 0.0275,\n",
       "           0.0000, 0.0000, 0.0000, 0.0000],\n",
       "          [0.0000, 0.0000, 0.0000, 0.0000, 0.0000, 0.0196, 0.0000, 0.3922,\n",
       "           0.7098, 0.7137, 0.7569, 0.8000, 0.8275, 0.8588, 0.8863, 0.8784,\n",
       "           0.8902, 0.8510, 0.8157, 0.7961, 0.8078, 0.1804, 0.0000, 0.0235,\n",
       "           0.0000, 0.0000, 0.0000, 0.0000]]]])"
      ]
     },
     "execution_count": 21,
     "metadata": {},
     "output_type": "execute_result"
    }
   ],
   "source": [
    "images[0].unsqueeze(dim=1)"
   ]
  },
  {
   "cell_type": "code",
   "execution_count": 22,
   "metadata": {
    "id": "UGs_PI-yxZLp"
   },
   "outputs": [],
   "source": [
    "class CNN(nn.Module):\n",
    "  def __init__(self, in_, out_):\n",
    "    super(CNN, self).__init__()\n",
    "\n",
    "    self.conv_pool_01 = nn.Sequential(\n",
    "        nn.Conv2d(in_channels=in_, out_channels=8, kernel_size=5, stride=1, padding=0),\n",
    "        nn.ReLU(),\n",
    "        nn.MaxPool2d(kernel_size=2, stride=2)\n",
    "    )\n",
    "\n",
    "    self.conv_pool_02 = nn.Sequential(\n",
    "        nn.Conv2d(in_channels=8, out_channels=16, kernel_size=5, stride=1, padding=0),\n",
    "        nn.ReLU(),\n",
    "        nn.MaxPool2d(kernel_size=2, stride=2)\n",
    "    )\n",
    "\n",
    "    self.Flatten = nn.Flatten()\n",
    "    self.FC_01 = nn.Linear(in_features=16*4*4, out_features=128)\n",
    "    self.FC_02 = nn.Linear(in_features=128, out_features=64)\n",
    "    self.FC_03 = nn.Linear(in_features=64, out_features=out_)\n",
    "\n",
    "  def forward(self, x):\n",
    "    x = self.conv_pool_01(x)\n",
    "    x = self.conv_pool_02(x)\n",
    "    x = self.Flatten(x)\n",
    "    x = self.FC_01(x)\n",
    "    x = F.relu(x)\n",
    "    x = self.FC_02(x)\n",
    "    x = F.relu(x)    \n",
    "    x = self.FC_03(x)\n",
    "    return x"
   ]
  },
  {
   "cell_type": "code",
   "execution_count": 23,
   "metadata": {
    "colab": {
     "base_uri": "https://localhost:8080/"
    },
    "id": "gsUP8CLP3Lf5",
    "outputId": "1792489a-f69a-46c8-d655-0e98582abb54"
   },
   "outputs": [
    {
     "name": "stdout",
     "output_type": "stream",
     "text": [
      "CNN(\n",
      "  (conv_pool_01): Sequential(\n",
      "    (0): Conv2d(1, 8, kernel_size=(5, 5), stride=(1, 1))\n",
      "    (1): ReLU()\n",
      "    (2): MaxPool2d(kernel_size=2, stride=2, padding=0, dilation=1, ceil_mode=False)\n",
      "  )\n",
      "  (conv_pool_02): Sequential(\n",
      "    (0): Conv2d(8, 16, kernel_size=(5, 5), stride=(1, 1))\n",
      "    (1): ReLU()\n",
      "    (2): MaxPool2d(kernel_size=2, stride=2, padding=0, dilation=1, ceil_mode=False)\n",
      "  )\n",
      "  (Flatten): Flatten(start_dim=1, end_dim=-1)\n",
      "  (FC_01): Linear(in_features=256, out_features=128, bias=True)\n",
      "  (FC_02): Linear(in_features=128, out_features=64, bias=True)\n",
      "  (FC_03): Linear(in_features=64, out_features=10, bias=True)\n",
      ")\n"
     ]
    }
   ],
   "source": [
    "model = CNN(1, 10)\n",
    "\n",
    "print(model)"
   ]
  },
  {
   "cell_type": "code",
   "execution_count": 24,
   "metadata": {
    "colab": {
     "base_uri": "https://localhost:8080/"
    },
    "id": "Pj4qL1ew3WJc",
    "outputId": "6f7789e3-22e1-47dc-8a3b-67690657316a"
   },
   "outputs": [
    {
     "data": {
      "text/plain": [
       "Sequential(\n",
       "  (0): Conv2d(8, 16, kernel_size=(5, 5), stride=(1, 1))\n",
       "  (1): ReLU()\n",
       "  (2): MaxPool2d(kernel_size=2, stride=2, padding=0, dilation=1, ceil_mode=False)\n",
       ")"
      ]
     },
     "execution_count": 24,
     "metadata": {},
     "output_type": "execute_result"
    }
   ],
   "source": [
    "model.conv_pool_02"
   ]
  },
  {
   "cell_type": "code",
   "execution_count": 25,
   "metadata": {
    "colab": {
     "base_uri": "https://localhost:8080/"
    },
    "id": "dmAdYZH88Hhx",
    "outputId": "fc38995e-2d24-4596-a148-cafe78fac4c2"
   },
   "outputs": [
    {
     "data": {
      "text/plain": [
       "False"
      ]
     },
     "execution_count": 25,
     "metadata": {},
     "output_type": "execute_result"
    }
   ],
   "source": [
    "next(model.parameters()).is_cuda"
   ]
  },
  {
   "cell_type": "code",
   "execution_count": 26,
   "metadata": {
    "colab": {
     "base_uri": "https://localhost:8080/"
    },
    "id": "EpMW3RAL8fWf",
    "outputId": "a1a30dfb-24c8-40ea-e7f5-48aa4529fdb8"
   },
   "outputs": [
    {
     "data": {
      "text/plain": [
       "CNN(\n",
       "  (conv_pool_01): Sequential(\n",
       "    (0): Conv2d(1, 8, kernel_size=(5, 5), stride=(1, 1))\n",
       "    (1): ReLU()\n",
       "    (2): MaxPool2d(kernel_size=2, stride=2, padding=0, dilation=1, ceil_mode=False)\n",
       "  )\n",
       "  (conv_pool_02): Sequential(\n",
       "    (0): Conv2d(8, 16, kernel_size=(5, 5), stride=(1, 1))\n",
       "    (1): ReLU()\n",
       "    (2): MaxPool2d(kernel_size=2, stride=2, padding=0, dilation=1, ceil_mode=False)\n",
       "  )\n",
       "  (Flatten): Flatten(start_dim=1, end_dim=-1)\n",
       "  (FC_01): Linear(in_features=256, out_features=128, bias=True)\n",
       "  (FC_02): Linear(in_features=128, out_features=64, bias=True)\n",
       "  (FC_03): Linear(in_features=64, out_features=10, bias=True)\n",
       ")"
      ]
     },
     "execution_count": 26,
     "metadata": {},
     "output_type": "execute_result"
    }
   ],
   "source": [
    "model.to(config.DEVICE)"
   ]
  },
  {
   "cell_type": "code",
   "execution_count": 27,
   "metadata": {
    "colab": {
     "base_uri": "https://localhost:8080/"
    },
    "id": "0t0aLqHj8n32",
    "outputId": "5c38d3b7-3c39-4deb-cf3a-6f5159fa324a"
   },
   "outputs": [
    {
     "data": {
      "text/plain": [
       "True"
      ]
     },
     "execution_count": 27,
     "metadata": {},
     "output_type": "execute_result"
    }
   ],
   "source": [
    "next(model.parameters()).is_cuda"
   ]
  },
  {
   "cell_type": "markdown",
   "metadata": {
    "id": "3adlIIWQ80ao"
   },
   "source": [
    "## Count the no. of trainable parameters"
   ]
  },
  {
   "cell_type": "code",
   "execution_count": 28,
   "metadata": {
    "colab": {
     "base_uri": "https://localhost:8080/",
     "height": 397
    },
    "id": "sRiX_aPN8rYn",
    "outputId": "f8b7b800-774f-49db-fb09-9a62a63c1230"
   },
   "outputs": [
    {
     "data": {
      "text/html": [
       "<style type=\"text/css\">\n",
       "</style>\n",
       "<table id=\"T_ebd82\">\n",
       "  <caption>Total parameters: {'trainable': 45226, 'non_trainable': 0}</caption>\n",
       "  <thead>\n",
       "    <tr>\n",
       "      <th class=\"blank level0\" >&nbsp;</th>\n",
       "      <th id=\"T_ebd82_level0_col0\" class=\"col_heading level0 col0\" >Modules</th>\n",
       "      <th id=\"T_ebd82_level0_col1\" class=\"col_heading level0 col1\" >Parameters</th>\n",
       "    </tr>\n",
       "  </thead>\n",
       "  <tbody>\n",
       "    <tr>\n",
       "      <th id=\"T_ebd82_level0_row0\" class=\"row_heading level0 row0\" >0</th>\n",
       "      <td id=\"T_ebd82_row0_col0\" class=\"data row0 col0\" >conv_pool_01.0.weight</td>\n",
       "      <td id=\"T_ebd82_row0_col1\" class=\"data row0 col1\" >200</td>\n",
       "    </tr>\n",
       "    <tr>\n",
       "      <th id=\"T_ebd82_level0_row1\" class=\"row_heading level0 row1\" >1</th>\n",
       "      <td id=\"T_ebd82_row1_col0\" class=\"data row1 col0\" >conv_pool_01.0.bias</td>\n",
       "      <td id=\"T_ebd82_row1_col1\" class=\"data row1 col1\" >8</td>\n",
       "    </tr>\n",
       "    <tr>\n",
       "      <th id=\"T_ebd82_level0_row2\" class=\"row_heading level0 row2\" >2</th>\n",
       "      <td id=\"T_ebd82_row2_col0\" class=\"data row2 col0\" >conv_pool_02.0.weight</td>\n",
       "      <td id=\"T_ebd82_row2_col1\" class=\"data row2 col1\" >3200</td>\n",
       "    </tr>\n",
       "    <tr>\n",
       "      <th id=\"T_ebd82_level0_row3\" class=\"row_heading level0 row3\" >3</th>\n",
       "      <td id=\"T_ebd82_row3_col0\" class=\"data row3 col0\" >conv_pool_02.0.bias</td>\n",
       "      <td id=\"T_ebd82_row3_col1\" class=\"data row3 col1\" >16</td>\n",
       "    </tr>\n",
       "    <tr>\n",
       "      <th id=\"T_ebd82_level0_row4\" class=\"row_heading level0 row4\" >4</th>\n",
       "      <td id=\"T_ebd82_row4_col0\" class=\"data row4 col0\" >FC_01.weight</td>\n",
       "      <td id=\"T_ebd82_row4_col1\" class=\"data row4 col1\" >32768</td>\n",
       "    </tr>\n",
       "    <tr>\n",
       "      <th id=\"T_ebd82_level0_row5\" class=\"row_heading level0 row5\" >5</th>\n",
       "      <td id=\"T_ebd82_row5_col0\" class=\"data row5 col0\" >FC_01.bias</td>\n",
       "      <td id=\"T_ebd82_row5_col1\" class=\"data row5 col1\" >128</td>\n",
       "    </tr>\n",
       "    <tr>\n",
       "      <th id=\"T_ebd82_level0_row6\" class=\"row_heading level0 row6\" >6</th>\n",
       "      <td id=\"T_ebd82_row6_col0\" class=\"data row6 col0\" >FC_02.weight</td>\n",
       "      <td id=\"T_ebd82_row6_col1\" class=\"data row6 col1\" >8192</td>\n",
       "    </tr>\n",
       "    <tr>\n",
       "      <th id=\"T_ebd82_level0_row7\" class=\"row_heading level0 row7\" >7</th>\n",
       "      <td id=\"T_ebd82_row7_col0\" class=\"data row7 col0\" >FC_02.bias</td>\n",
       "      <td id=\"T_ebd82_row7_col1\" class=\"data row7 col1\" >64</td>\n",
       "    </tr>\n",
       "    <tr>\n",
       "      <th id=\"T_ebd82_level0_row8\" class=\"row_heading level0 row8\" >8</th>\n",
       "      <td id=\"T_ebd82_row8_col0\" class=\"data row8 col0\" >FC_03.weight</td>\n",
       "      <td id=\"T_ebd82_row8_col1\" class=\"data row8 col1\" >640</td>\n",
       "    </tr>\n",
       "    <tr>\n",
       "      <th id=\"T_ebd82_level0_row9\" class=\"row_heading level0 row9\" >9</th>\n",
       "      <td id=\"T_ebd82_row9_col0\" class=\"data row9 col0\" >FC_03.bias</td>\n",
       "      <td id=\"T_ebd82_row9_col1\" class=\"data row9 col1\" >10</td>\n",
       "    </tr>\n",
       "  </tbody>\n",
       "</table>\n"
      ],
      "text/plain": [
       "<pandas.io.formats.style.Styler at 0x20cb6a13550>"
      ]
     },
     "execution_count": 28,
     "metadata": {},
     "output_type": "execute_result"
    }
   ],
   "source": [
    "def count_params(model):\n",
    "  model_params = {\"Modules\": list(), \"Parameters\": list()}\n",
    "  total = {\"trainable\": 0, \"non_trainable\": 0} \n",
    "  for name, parameters in model.named_parameters():\n",
    "    param = parameters.numel()\n",
    "    if not parameters.requires_grad:\n",
    "      total[\"non_trainable\"] += param\n",
    "      continue\n",
    "    model_params[\"Modules\"].append(name)\n",
    "    model_params[\"Parameters\"].append(param)\n",
    "    total[\"trainable\"] += param\n",
    "  df = pd.DataFrame(model_params)\n",
    "  df = df.style.set_caption(f\"Total parameters: {total}\")\n",
    "  return df\n",
    "\n",
    "count_params(model)"
   ]
  },
  {
   "cell_type": "markdown",
   "metadata": {
    "id": "_ch8lk1z--v-"
   },
   "source": [
    "## Training loop"
   ]
  },
  {
   "cell_type": "code",
   "execution_count": 29,
   "metadata": {
    "id": "kXISVZns97Gu"
   },
   "outputs": [],
   "source": [
    "criterion = nn.CrossEntropyLoss() ## loss function\n",
    "optimizer = torch.optim.Adam(model.parameters(), lr=config.LEARNING_RATE)"
   ]
  },
  {
   "cell_type": "code",
   "execution_count": 30,
   "metadata": {},
   "outputs": [
    {
     "name": "stderr",
     "output_type": "stream",
     "text": [
      "Epoch 1/10: 100%|██████████| 1875/1875 [00:16<00:00, 111.90it/s, loss=0.459]\n",
      "Epoch 2/10: 100%|██████████| 1875/1875 [00:12<00:00, 151.13it/s, loss=0.411] \n",
      "Epoch 3/10: 100%|██████████| 1875/1875 [00:12<00:00, 155.34it/s, loss=0.301] \n",
      "Epoch 4/10: 100%|██████████| 1875/1875 [00:12<00:00, 155.90it/s, loss=0.44]  \n",
      "Epoch 5/10: 100%|██████████| 1875/1875 [00:12<00:00, 155.85it/s, loss=0.196] \n",
      "Epoch 6/10: 100%|██████████| 1875/1875 [00:12<00:00, 154.28it/s, loss=0.398] \n",
      "Epoch 7/10: 100%|██████████| 1875/1875 [00:12<00:00, 154.03it/s, loss=0.431] \n",
      "Epoch 8/10: 100%|██████████| 1875/1875 [00:12<00:00, 154.39it/s, loss=0.355] \n",
      "Epoch 9/10: 100%|██████████| 1875/1875 [00:12<00:00, 154.33it/s, loss=0.424] \n",
      "Epoch 10/10: 100%|██████████| 1875/1875 [00:12<00:00, 154.33it/s, loss=0.214] \n"
     ]
    }
   ],
   "source": [
    "for epoch in range(config.EPOCH):\n",
    "  with tqdm(train_data_loader) as tqdm_epoch:\n",
    "    for images, labels in tqdm_epoch:\n",
    "      tqdm_epoch.set_description(f\"Epoch {epoch + 1}/{config.EPOCH}\")\n",
    "\n",
    "      # put the images on device\n",
    "      images = images.to(config.DEVICE)\n",
    "      labels = labels.to(config.DEVICE)\n",
    "\n",
    "      # forward pass\n",
    "      outputs = model(images)\n",
    "      loss = criterion(outputs, labels) # TODO #<< passing the pred, target\n",
    "\n",
    "      # backward prop\n",
    "      optimizer.zero_grad() # past gradient\n",
    "      loss.backward() # calculate the gradients\n",
    "      optimizer.step() # weights updated\n",
    "\n",
    "      tqdm_epoch.set_postfix(loss=loss.item())"
   ]
  },
  {
   "cell_type": "markdown",
   "metadata": {},
   "source": [
    "### Save the model"
   ]
  },
  {
   "cell_type": "code",
   "execution_count": 31,
   "metadata": {},
   "outputs": [],
   "source": [
    "os.makedirs(\"model_dir\", exist_ok=True)\n",
    "model_file_path = os.path.join(\"model_dir\", \"CNN_model.pth\")\n",
    "torch.save(model, model_file_path)"
   ]
  },
  {
   "cell_type": "markdown",
   "metadata": {},
   "source": [
    "### Load the model"
   ]
  },
  {
   "cell_type": "code",
   "execution_count": 32,
   "metadata": {},
   "outputs": [],
   "source": [
    "loaded_model = torch.load(model_file_path)"
   ]
  },
  {
   "cell_type": "markdown",
   "metadata": {
    "id": "HwX6bnIe_BC_"
   },
   "source": [
    "## Evaluate our model"
   ]
  },
  {
   "cell_type": "code",
   "execution_count": 33,
   "metadata": {
    "id": "OqS9yO7D_C9L"
   },
   "outputs": [],
   "source": [
    "pred = np.array([])\n",
    "target = np.array([])\n",
    "\n",
    "with torch.no_grad():\n",
    "  for batch, data in enumerate(test_data_loader):\n",
    "    images = data[0].to(config.DEVICE)\n",
    "    labels = data[1].to(config.DEVICE)\n",
    "\n",
    "    y_pred = model(images)\n",
    "\n",
    "    pred = np.concatenate((pred, torch.argmax(y_pred, 1).cpu().numpy()))\n",
    "    target = np.concatenate((target, labels.cpu().numpy()))"
   ]
  },
  {
   "cell_type": "code",
   "execution_count": 34,
   "metadata": {},
   "outputs": [],
   "source": [
    "cm = confusion_matrix(target, pred)"
   ]
  },
  {
   "cell_type": "code",
   "execution_count": 35,
   "metadata": {},
   "outputs": [
    {
     "data": {
      "text/plain": [
       "dict_values(['T-shirt/top', 'Trouser', 'Pullover', 'Dress', 'Coat', 'Sandal', 'Shirt', 'Sneaker', 'Bag', 'Ankle boot'])"
      ]
     },
     "execution_count": 35,
     "metadata": {},
     "output_type": "execute_result"
    }
   ],
   "source": [
    "label_map.values()"
   ]
  },
  {
   "cell_type": "code",
   "execution_count": 36,
   "metadata": {},
   "outputs": [
    {
     "data": {
      "text/plain": [
       "<Axes: >"
      ]
     },
     "execution_count": 36,
     "metadata": {},
     "output_type": "execute_result"
    },
    {
     "data": {
      "image/png": "[encoded data removed]",
      "text/plain": [
       "<Figure size 1200x1000 with 1 Axes>"
      ]
     },
     "metadata": {},
     "output_type": "display_data"
    }
   ],
   "source": [
    "plt.figure(figsize=(12,10))\n",
    "sns.heatmap(cm, annot=True, fmt='d', xticklabels=label_map.values() , yticklabels=label_map.values(), cbar=False)"
   ]
  },
  {
   "cell_type": "markdown",
   "metadata": {
    "id": "76rHcV37_DV0"
   },
   "source": [
    "## prediction on our model"
   ]
  },
  {
   "cell_type": "code",
   "execution_count": null,
   "metadata": {
    "id": "UxkPwRdR_FPt"
   },
   "outputs": [],
   "source": []
  }
 ],
 "metadata": {
  "accelerator": "GPU",
  "colab": {
   "collapsed_sections": [],
   "name": "demo.ipynb",
   "provenance": []
  },
  "kernelspec": {
   "display_name": "Python 3 (ipykernel)",
   "language": "python",
   "name": "python3"
  },
  "language_info": {
   "codemirror_mode": {
    "name": "ipython",
    "version": 3
   },
   "file_extension": ".py",
   "mimetype": "text/x-python",
   "name": "python",
   "nbconvert_exporter": "python",
   "pygments_lexer": "ipython3",
   "version": "3.11.4"
  },
  "widgets": {
   "application/vnd.jupyter.widget-state+json": {
    "064e93deeffe4486bb45d3fd3f9dd064": {
     "model_module": "@jupyter-widgets/controls",
     "model_module_version": "1.5.0",
     "model_name": "HTMLModel",
     "state": {
      "_dom_classes": [],
      "_model_module": "@jupyter-widgets/controls",
      "_model_module_version": "1.5.0",
      "_model_name": "HTMLModel",
      "_view_count": null,
      "_view_module": "@jupyter-widgets/controls",
      "_view_module_version": "1.5.0",
      "_view_name": "HTMLView",
      "description": "",
      "description_tooltip": null,
      "layout": "IPY_MODEL_ab91240dbe844471993045034e6546f2",
      "placeholder": "​",
      "style": "IPY_MODEL_7b1f527af6e64299827a85fb3ef69b0d",
      "value": ""
     }
    },
    "1102ae473b684d8d9e99323c80d8d49a": {
     "model_module": "@jupyter-widgets/base",
     "model_module_version": "1.2.0",
     "model_name": "LayoutModel",
     "state": {
      "_model_module": "@jupyter-widgets/base",
      "_model_module_version": "1.2.0",
      "_model_name": "LayoutModel",
      "_view_count": null,
      "_view_module": "@jupyter-widgets/base",
      "_view_module_version": "1.2.0",
      "_view_name": "LayoutView",
      "align_content": null,
      "align_items": null,
      "align_self": null,
      "border": null,
      "bottom": null,
      "display": null,
      "flex": null,
      "flex_flow": null,
      "grid_area": null,
      "grid_auto_columns": null,
      "grid_auto_flow": null,
      "grid_auto_rows": null,
      "grid_column": null,
      "grid_gap": null,
      "grid_row": null,
      "grid_template_areas": null,
      "grid_template_columns": null,
      "grid_template_rows": null,
      "height": null,
      "justify_content": null,
      "justify_items": null,
      "left": null,
      "margin": null,
      "max_height": null,
      "max_width": null,
      "min_height": null,
      "min_width": null,
      "object_fit": null,
      "object_position": null,
      "order": null,
      "overflow": null,
      "overflow_x": null,
      "overflow_y": null,
      "padding": null,
      "right": null,
      "top": null,
      "visibility": null,
      "width": null
     }
    },
    "16ddb7d5c0b640a9bbb172888b9a7b76": {
     "model_module": "@jupyter-widgets/base",
     "model_module_version": "1.2.0",
     "model_name": "LayoutModel",
     "state": {
      "_model_module": "@jupyter-widgets/base",
      "_model_module_version": "1.2.0",
      "_model_name": "LayoutModel",
      "_view_count": null,
      "_view_module": "@jupyter-widgets/base",
      "_view_module_version": "1.2.0",
      "_view_name": "LayoutView",
      "align_content": null,
      "align_items": null,
      "align_self": null,
      "border": null,
      "bottom": null,
      "display": null,
      "flex": null,
      "flex_flow": null,
      "grid_area": null,
      "grid_auto_columns": null,
      "grid_auto_flow": null,
      "grid_auto_rows": null,
      "grid_column": null,
      "grid_gap": null,
      "grid_row": null,
      "grid_template_areas": null,
      "grid_template_columns": null,
      "grid_template_rows": null,
      "height": null,
      "justify_content": null,
      "justify_items": null,
      "left": null,
      "margin": null,
      "max_height": null,
      "max_width": null,
      "min_height": null,
      "min_width": null,
      "object_fit": null,
      "object_position": null,
      "order": null,
      "overflow": null,
      "overflow_x": null,
      "overflow_y": null,
      "padding": null,
      "right": null,
      "top": null,
      "visibility": null,
      "width": null
     }
    },
    "1a548852160640d5b12dee73658af465": {
     "model_module": "@jupyter-widgets/controls",
     "model_module_version": "1.5.0",
     "model_name": "FloatProgressModel",
     "state": {
      "_dom_classes": [],
      "_model_module": "@jupyter-widgets/controls",
      "_model_module_version": "1.5.0",
      "_model_name": "FloatProgressModel",
      "_view_count": null,
      "_view_module": "@jupyter-widgets/controls",
      "_view_module_version": "1.5.0",
      "_view_name": "ProgressView",
      "bar_style": "success",
      "description": "",
      "description_tooltip": null,
      "layout": "IPY_MODEL_ab937c8d415c4e4f81a9170909c97a95",
      "max": 4422102,
      "min": 0,
      "orientation": "horizontal",
      "style": "IPY_MODEL_3131e5c4d3b54f30bd61fae37679a93a",
      "value": 4422102
     }
    },
    "1ad26d7433394b278c2524fd65ef3eb3": {
     "model_module": "@jupyter-widgets/controls",
     "model_module_version": "1.5.0",
     "model_name": "HBoxModel",
     "state": {
      "_dom_classes": [],
      "_model_module": "@jupyter-widgets/controls",
      "_model_module_version": "1.5.0",
      "_model_name": "HBoxModel",
      "_view_count": null,
      "_view_module": "@jupyter-widgets/controls",
      "_view_module_version": "1.5.0",
      "_view_name": "HBoxView",
      "box_style": "",
      "children": [
       "IPY_MODEL_cf344cc7bab446a5b50a877d4efaef5f",
       "IPY_MODEL_1a548852160640d5b12dee73658af465",
       "IPY_MODEL_263f6a3c2ff94b4ca6cccbf32c4356fb"
      ],
      "layout": "IPY_MODEL_d2d53f15a9fc4911a99bddcd456bba2d"
     }
    },
    "1f0e3fc16ff449f5a539bbbea161725c": {
     "model_module": "@jupyter-widgets/base",
     "model_module_version": "1.2.0",
     "model_name": "LayoutModel",
     "state": {
      "_model_module": "@jupyter-widgets/base",
      "_model_module_version": "1.2.0",
      "_model_name": "LayoutModel",
      "_view_count": null,
      "_view_module": "@jupyter-widgets/base",
      "_view_module_version": "1.2.0",
      "_view_name": "LayoutView",
      "align_content": null,
      "align_items": null,
      "align_self": null,
      "border": null,
      "bottom": null,
      "display": null,
      "flex": null,
      "flex_flow": null,
      "grid_area": null,
      "grid_auto_columns": null,
      "grid_auto_flow": null,
      "grid_auto_rows": null,
      "grid_column": null,
      "grid_gap": null,
      "grid_row": null,
      "grid_template_areas": null,
      "grid_template_columns": null,
      "grid_template_rows": null,
      "height": null,
      "justify_content": null,
      "justify_items": null,
      "left": null,
      "margin": null,
      "max_height": null,
      "max_width": null,
      "min_height": null,
      "min_width": null,
      "object_fit": null,
      "object_position": null,
      "order": null,
      "overflow": null,
      "overflow_x": null,
      "overflow_y": null,
      "padding": null,
      "right": null,
      "top": null,
      "visibility": null,
      "width": null
     }
    },
    "25cf4f21d922460a82578e982c59d2f4": {
     "model_module": "@jupyter-widgets/base",
     "model_module_version": "1.2.0",
     "model_name": "LayoutModel",
     "state": {
      "_model_module": "@jupyter-widgets/base",
      "_model_module_version": "1.2.0",
      "_model_name": "LayoutModel",
      "_view_count": null,
      "_view_module": "@jupyter-widgets/base",
      "_view_module_version": "1.2.0",
      "_view_name": "LayoutView",
      "align_content": null,
      "align_items": null,
      "align_self": null,
      "border": null,
      "bottom": null,
      "display": null,
      "flex": null,
      "flex_flow": null,
      "grid_area": null,
      "grid_auto_columns": null,
      "grid_auto_flow": null,
      "grid_auto_rows": null,
      "grid_column": null,
      "grid_gap": null,
      "grid_row": null,
      "grid_template_areas": null,
      "grid_template_columns": null,
      "grid_template_rows": null,
      "height": null,
      "justify_content": null,
      "justify_items": null,
      "left": null,
      "margin": null,
      "max_height": null,
      "max_width": null,
      "min_height": null,
      "min_width": null,
      "object_fit": null,
      "object_position": null,
      "order": null,
      "overflow": null,
      "overflow_x": null,
      "overflow_y": null,
      "padding": null,
      "right": null,
      "top": null,
      "visibility": null,
      "width": null
     }
    },
    "263f6a3c2ff94b4ca6cccbf32c4356fb": {
     "model_module": "@jupyter-widgets/controls",
     "model_module_version": "1.5.0",
     "model_name": "HTMLModel",
     "state": {
      "_dom_classes": [],
      "_model_module": "@jupyter-widgets/controls",
      "_model_module_version": "1.5.0",
      "_model_name": "HTMLModel",
      "_view_count": null,
      "_view_module": "@jupyter-widgets/controls",
      "_view_module_version": "1.5.0",
      "_view_name": "HTMLView",
      "description": "",
      "description_tooltip": null,
      "layout": "IPY_MODEL_b6a9ef9bd5f64987ac72e71ce144697d",
      "placeholder": "​",
      "style": "IPY_MODEL_9af9116a6abb41c88167aeffe92a1d34",
      "value": " 4422656/? [00:00&lt;00:00, 10864158.22it/s]"
     }
    },
    "299c5cb7d3e8469993173be2c4d4b2e6": {
     "model_module": "@jupyter-widgets/controls",
     "model_module_version": "1.5.0",
     "model_name": "FloatProgressModel",
     "state": {
      "_dom_classes": [],
      "_model_module": "@jupyter-widgets/controls",
      "_model_module_version": "1.5.0",
      "_model_name": "FloatProgressModel",
      "_view_count": null,
      "_view_module": "@jupyter-widgets/controls",
      "_view_module_version": "1.5.0",
      "_view_name": "ProgressView",
      "bar_style": "success",
      "description": "",
      "description_tooltip": null,
      "layout": "IPY_MODEL_310cc34f961943fda16de686ca3d79ea",
      "max": 5148,
      "min": 0,
      "orientation": "horizontal",
      "style": "IPY_MODEL_62c0dc4522584e40a9d0c2e251b5259a",
      "value": 5148
     }
    },
    "310cc34f961943fda16de686ca3d79ea": {
     "model_module": "@jupyter-widgets/base",
     "model_module_version": "1.2.0",
     "model_name": "LayoutModel",
     "state": {
      "_model_module": "@jupyter-widgets/base",
      "_model_module_version": "1.2.0",
      "_model_name": "LayoutModel",
      "_view_count": null,
      "_view_module": "@jupyter-widgets/base",
      "_view_module_version": "1.2.0",
      "_view_name": "LayoutView",
      "align_content": null,
      "align_items": null,
      "align_self": null,
      "border": null,
      "bottom": null,
      "display": null,
      "flex": null,
      "flex_flow": null,
      "grid_area": null,
      "grid_auto_columns": null,
      "grid_auto_flow": null,
      "grid_auto_rows": null,
      "grid_column": null,
      "grid_gap": null,
      "grid_row": null,
      "grid_template_areas": null,
      "grid_template_columns": null,
      "grid_template_rows": null,
      "height": null,
      "justify_content": null,
      "justify_items": null,
      "left": null,
      "margin": null,
      "max_height": null,
      "max_width": null,
      "min_height": null,
      "min_width": null,
      "object_fit": null,
      "object_position": null,
      "order": null,
      "overflow": null,
      "overflow_x": null,
      "overflow_y": null,
      "padding": null,
      "right": null,
      "top": null,
      "visibility": null,
      "width": null
     }
    },
    "3131e5c4d3b54f30bd61fae37679a93a": {
     "model_module": "@jupyter-widgets/controls",
     "model_module_version": "1.5.0",
     "model_name": "ProgressStyleModel",
     "state": {
      "_model_module": "@jupyter-widgets/controls",
      "_model_module_version": "1.5.0",
      "_model_name": "ProgressStyleModel",
      "_view_count": null,
      "_view_module": "@jupyter-widgets/base",
      "_view_module_version": "1.2.0",
      "_view_name": "StyleView",
      "bar_color": null,
      "description_width": ""
     }
    },
    "317b1b64752b4095bc464a4f66398bea": {
     "model_module": "@jupyter-widgets/base",
     "model_module_version": "1.2.0",
     "model_name": "LayoutModel",
     "state": {
      "_model_module": "@jupyter-widgets/base",
      "_model_module_version": "1.2.0",
      "_model_name": "LayoutModel",
      "_view_count": null,
      "_view_module": "@jupyter-widgets/base",
      "_view_module_version": "1.2.0",
      "_view_name": "LayoutView",
      "align_content": null,
      "align_items": null,
      "align_self": null,
      "border": null,
      "bottom": null,
      "display": null,
      "flex": null,
      "flex_flow": null,
      "grid_area": null,
      "grid_auto_columns": null,
      "grid_auto_flow": null,
      "grid_auto_rows": null,
      "grid_column": null,
      "grid_gap": null,
      "grid_row": null,
      "grid_template_areas": null,
      "grid_template_columns": null,
      "grid_template_rows": null,
      "height": null,
      "justify_content": null,
      "justify_items": null,
      "left": null,
      "margin": null,
      "max_height": null,
      "max_width": null,
      "min_height": null,
      "min_width": null,
      "object_fit": null,
      "object_position": null,
      "order": null,
      "overflow": null,
      "overflow_x": null,
      "overflow_y": null,
      "padding": null,
      "right": null,
      "top": null,
      "visibility": null,
      "width": null
     }
    },
    "3a0c67f02fd247e4a757a467bb898a7d": {
     "model_module": "@jupyter-widgets/controls",
     "model_module_version": "1.5.0",
     "model_name": "ProgressStyleModel",
     "state": {
      "_model_module": "@jupyter-widgets/controls",
      "_model_module_version": "1.5.0",
      "_model_name": "ProgressStyleModel",
      "_view_count": null,
      "_view_module": "@jupyter-widgets/base",
      "_view_module_version": "1.2.0",
      "_view_name": "StyleView",
      "bar_color": null,
      "description_width": ""
     }
    },
    "3e0d6d355e9847d5be68073e01d1493a": {
     "model_module": "@jupyter-widgets/controls",
     "model_module_version": "1.5.0",
     "model_name": "DescriptionStyleModel",
     "state": {
      "_model_module": "@jupyter-widgets/controls",
      "_model_module_version": "1.5.0",
      "_model_name": "DescriptionStyleModel",
      "_view_count": null,
      "_view_module": "@jupyter-widgets/base",
      "_view_module_version": "1.2.0",
      "_view_name": "StyleView",
      "description_width": ""
     }
    },
    "439cf778cf834b8295691d8c6d4c0400": {
     "model_module": "@jupyter-widgets/base",
     "model_module_version": "1.2.0",
     "model_name": "LayoutModel",
     "state": {
      "_model_module": "@jupyter-widgets/base",
      "_model_module_version": "1.2.0",
      "_model_name": "LayoutModel",
      "_view_count": null,
      "_view_module": "@jupyter-widgets/base",
      "_view_module_version": "1.2.0",
      "_view_name": "LayoutView",
      "align_content": null,
      "align_items": null,
      "align_self": null,
      "border": null,
      "bottom": null,
      "display": null,
      "flex": null,
      "flex_flow": null,
      "grid_area": null,
      "grid_auto_columns": null,
      "grid_auto_flow": null,
      "grid_auto_rows": null,
      "grid_column": null,
      "grid_gap": null,
      "grid_row": null,
      "grid_template_areas": null,
      "grid_template_columns": null,
      "grid_template_rows": null,
      "height": null,
      "justify_content": null,
      "justify_items": null,
      "left": null,
      "margin": null,
      "max_height": null,
      "max_width": null,
      "min_height": null,
      "min_width": null,
      "object_fit": null,
      "object_position": null,
      "order": null,
      "overflow": null,
      "overflow_x": null,
      "overflow_y": null,
      "padding": null,
      "right": null,
      "top": null,
      "visibility": null,
      "width": null
     }
    },
    "48b5cc791de1439ab48720b1a2c13808": {
     "model_module": "@jupyter-widgets/controls",
     "model_module_version": "1.5.0",
     "model_name": "DescriptionStyleModel",
     "state": {
      "_model_module": "@jupyter-widgets/controls",
      "_model_module_version": "1.5.0",
      "_model_name": "DescriptionStyleModel",
      "_view_count": null,
      "_view_module": "@jupyter-widgets/base",
      "_view_module_version": "1.2.0",
      "_view_name": "StyleView",
      "description_width": ""
     }
    },
    "6177577e8b144b42916106f87b2457d2": {
     "model_module": "@jupyter-widgets/controls",
     "model_module_version": "1.5.0",
     "model_name": "DescriptionStyleModel",
     "state": {
      "_model_module": "@jupyter-widgets/controls",
      "_model_module_version": "1.5.0",
      "_model_name": "DescriptionStyleModel",
      "_view_count": null,
      "_view_module": "@jupyter-widgets/base",
      "_view_module_version": "1.2.0",
      "_view_name": "StyleView",
      "description_width": ""
     }
    },
    "61f2721057944197bb11e988c65ea034": {
     "model_module": "@jupyter-widgets/base",
     "model_module_version": "1.2.0",
     "model_name": "LayoutModel",
     "state": {
      "_model_module": "@jupyter-widgets/base",
      "_model_module_version": "1.2.0",
      "_model_name": "LayoutModel",
      "_view_count": null,
      "_view_module": "@jupyter-widgets/base",
      "_view_module_version": "1.2.0",
      "_view_name": "LayoutView",
      "align_content": null,
      "align_items": null,
      "align_self": null,
      "border": null,
      "bottom": null,
      "display": null,
      "flex": null,
      "flex_flow": null,
      "grid_area": null,
      "grid_auto_columns": null,
      "grid_auto_flow": null,
      "grid_auto_rows": null,
      "grid_column": null,
      "grid_gap": null,
      "grid_row": null,
      "grid_template_areas": null,
      "grid_template_columns": null,
      "grid_template_rows": null,
      "height": null,
      "justify_content": null,
      "justify_items": null,
      "left": null,
      "margin": null,
      "max_height": null,
      "max_width": null,
      "min_height": null,
      "min_width": null,
      "object_fit": null,
      "object_position": null,
      "order": null,
      "overflow": null,
      "overflow_x": null,
      "overflow_y": null,
      "padding": null,
      "right": null,
      "top": null,
      "visibility": null,
      "width": null
     }
    },
    "62c0dc4522584e40a9d0c2e251b5259a": {
     "model_module": "@jupyter-widgets/controls",
     "model_module_version": "1.5.0",
     "model_name": "ProgressStyleModel",
     "state": {
      "_model_module": "@jupyter-widgets/controls",
      "_model_module_version": "1.5.0",
      "_model_name": "ProgressStyleModel",
      "_view_count": null,
      "_view_module": "@jupyter-widgets/base",
      "_view_module_version": "1.2.0",
      "_view_name": "StyleView",
      "bar_color": null,
      "description_width": ""
     }
    },
    "659eb5604f18407cb6d2322b3c5f5198": {
     "model_module": "@jupyter-widgets/controls",
     "model_module_version": "1.5.0",
     "model_name": "HTMLModel",
     "state": {
      "_dom_classes": [],
      "_model_module": "@jupyter-widgets/controls",
      "_model_module_version": "1.5.0",
      "_model_name": "HTMLModel",
      "_view_count": null,
      "_view_module": "@jupyter-widgets/controls",
      "_view_module_version": "1.5.0",
      "_view_name": "HTMLView",
      "description": "",
      "description_tooltip": null,
      "layout": "IPY_MODEL_8b52259f8363463a8e6d1113cb1674df",
      "placeholder": "​",
      "style": "IPY_MODEL_7546fcb25c054aff93e9e5673000116c",
      "value": " 26422272/? [00:00&lt;00:00, 70085525.30it/s]"
     }
    },
    "67f393d387d44418ae9fc0c745f21681": {
     "model_module": "@jupyter-widgets/base",
     "model_module_version": "1.2.0",
     "model_name": "LayoutModel",
     "state": {
      "_model_module": "@jupyter-widgets/base",
      "_model_module_version": "1.2.0",
      "_model_name": "LayoutModel",
      "_view_count": null,
      "_view_module": "@jupyter-widgets/base",
      "_view_module_version": "1.2.0",
      "_view_name": "LayoutView",
      "align_content": null,
      "align_items": null,
      "align_self": null,
      "border": null,
      "bottom": null,
      "display": null,
      "flex": null,
      "flex_flow": null,
      "grid_area": null,
      "grid_auto_columns": null,
      "grid_auto_flow": null,
      "grid_auto_rows": null,
      "grid_column": null,
      "grid_gap": null,
      "grid_row": null,
      "grid_template_areas": null,
      "grid_template_columns": null,
      "grid_template_rows": null,
      "height": null,
      "justify_content": null,
      "justify_items": null,
      "left": null,
      "margin": null,
      "max_height": null,
      "max_width": null,
      "min_height": null,
      "min_width": null,
      "object_fit": null,
      "object_position": null,
      "order": null,
      "overflow": null,
      "overflow_x": null,
      "overflow_y": null,
      "padding": null,
      "right": null,
      "top": null,
      "visibility": null,
      "width": null
     }
    },
    "69ee1988b2134cc486605b85b6a1557f": {
     "model_module": "@jupyter-widgets/controls",
     "model_module_version": "1.5.0",
     "model_name": "HBoxModel",
     "state": {
      "_dom_classes": [],
      "_model_module": "@jupyter-widgets/controls",
      "_model_module_version": "1.5.0",
      "_model_name": "HBoxModel",
      "_view_count": null,
      "_view_module": "@jupyter-widgets/controls",
      "_view_module_version": "1.5.0",
      "_view_name": "HBoxView",
      "box_style": "",
      "children": [
       "IPY_MODEL_f02b31ac16eb4b03a4fc1186e390fb79",
       "IPY_MODEL_299c5cb7d3e8469993173be2c4d4b2e6",
       "IPY_MODEL_86d09736e61a41f29c4881e5c361b3a7"
      ],
      "layout": "IPY_MODEL_67f393d387d44418ae9fc0c745f21681"
     }
    },
    "7546fcb25c054aff93e9e5673000116c": {
     "model_module": "@jupyter-widgets/controls",
     "model_module_version": "1.5.0",
     "model_name": "DescriptionStyleModel",
     "state": {
      "_model_module": "@jupyter-widgets/controls",
      "_model_module_version": "1.5.0",
      "_model_name": "DescriptionStyleModel",
      "_view_count": null,
      "_view_module": "@jupyter-widgets/base",
      "_view_module_version": "1.2.0",
      "_view_name": "StyleView",
      "description_width": ""
     }
    },
    "7b1f527af6e64299827a85fb3ef69b0d": {
     "model_module": "@jupyter-widgets/controls",
     "model_module_version": "1.5.0",
     "model_name": "DescriptionStyleModel",
     "state": {
      "_model_module": "@jupyter-widgets/controls",
      "_model_module_version": "1.5.0",
      "_model_name": "DescriptionStyleModel",
      "_view_count": null,
      "_view_module": "@jupyter-widgets/base",
      "_view_module_version": "1.2.0",
      "_view_name": "StyleView",
      "description_width": ""
     }
    },
    "820f186c44ac4d889edd5e8ff429d24e": {
     "model_module": "@jupyter-widgets/controls",
     "model_module_version": "1.5.0",
     "model_name": "DescriptionStyleModel",
     "state": {
      "_model_module": "@jupyter-widgets/controls",
      "_model_module_version": "1.5.0",
      "_model_name": "DescriptionStyleModel",
      "_view_count": null,
      "_view_module": "@jupyter-widgets/base",
      "_view_module_version": "1.2.0",
      "_view_name": "StyleView",
      "description_width": ""
     }
    },
    "86d09736e61a41f29c4881e5c361b3a7": {
     "model_module": "@jupyter-widgets/controls",
     "model_module_version": "1.5.0",
     "model_name": "HTMLModel",
     "state": {
      "_dom_classes": [],
      "_model_module": "@jupyter-widgets/controls",
      "_model_module_version": "1.5.0",
      "_model_name": "HTMLModel",
      "_view_count": null,
      "_view_module": "@jupyter-widgets/controls",
      "_view_module_version": "1.5.0",
      "_view_name": "HTMLView",
      "description": "",
      "description_tooltip": null,
      "layout": "IPY_MODEL_317b1b64752b4095bc464a4f66398bea",
      "placeholder": "​",
      "style": "IPY_MODEL_3e0d6d355e9847d5be68073e01d1493a",
      "value": " 6144/? [00:00&lt;00:00, 97607.72it/s]"
     }
    },
    "87b2f7aef9a44988ba19777420bcb700": {
     "model_module": "@jupyter-widgets/controls",
     "model_module_version": "1.5.0",
     "model_name": "HTMLModel",
     "state": {
      "_dom_classes": [],
      "_model_module": "@jupyter-widgets/controls",
      "_model_module_version": "1.5.0",
      "_model_name": "HTMLModel",
      "_view_count": null,
      "_view_module": "@jupyter-widgets/controls",
      "_view_module_version": "1.5.0",
      "_view_name": "HTMLView",
      "description": "",
      "description_tooltip": null,
      "layout": "IPY_MODEL_c23f0327f09940ffa00bb3ee29b98360",
      "placeholder": "​",
      "style": "IPY_MODEL_48b5cc791de1439ab48720b1a2c13808",
      "value": " 29696/? [00:00&lt;00:00, 624622.26it/s]"
     }
    },
    "8b52259f8363463a8e6d1113cb1674df": {
     "model_module": "@jupyter-widgets/base",
     "model_module_version": "1.2.0",
     "model_name": "LayoutModel",
     "state": {
      "_model_module": "@jupyter-widgets/base",
      "_model_module_version": "1.2.0",
      "_model_name": "LayoutModel",
      "_view_count": null,
      "_view_module": "@jupyter-widgets/base",
      "_view_module_version": "1.2.0",
      "_view_name": "LayoutView",
      "align_content": null,
      "align_items": null,
      "align_self": null,
      "border": null,
      "bottom": null,
      "display": null,
      "flex": null,
      "flex_flow": null,
      "grid_area": null,
      "grid_auto_columns": null,
      "grid_auto_flow": null,
      "grid_auto_rows": null,
      "grid_column": null,
      "grid_gap": null,
      "grid_row": null,
      "grid_template_areas": null,
      "grid_template_columns": null,
      "grid_template_rows": null,
      "height": null,
      "justify_content": null,
      "justify_items": null,
      "left": null,
      "margin": null,
      "max_height": null,
      "max_width": null,
      "min_height": null,
      "min_width": null,
      "object_fit": null,
      "object_position": null,
      "order": null,
      "overflow": null,
      "overflow_x": null,
      "overflow_y": null,
      "padding": null,
      "right": null,
      "top": null,
      "visibility": null,
      "width": null
     }
    },
    "921dc877fe93456a9928cc7618ccc6d7": {
     "model_module": "@jupyter-widgets/controls",
     "model_module_version": "1.5.0",
     "model_name": "HTMLModel",
     "state": {
      "_dom_classes": [],
      "_model_module": "@jupyter-widgets/controls",
      "_model_module_version": "1.5.0",
      "_model_name": "HTMLModel",
      "_view_count": null,
      "_view_module": "@jupyter-widgets/controls",
      "_view_module_version": "1.5.0",
      "_view_name": "HTMLView",
      "description": "",
      "description_tooltip": null,
      "layout": "IPY_MODEL_1102ae473b684d8d9e99323c80d8d49a",
      "placeholder": "​",
      "style": "IPY_MODEL_c9ddd8ba83c144358735b228e6e60fcd",
      "value": ""
     }
    },
    "9829a50663b34a59961add78a67b09c0": {
     "model_module": "@jupyter-widgets/controls",
     "model_module_version": "1.5.0",
     "model_name": "HBoxModel",
     "state": {
      "_dom_classes": [],
      "_model_module": "@jupyter-widgets/controls",
      "_model_module_version": "1.5.0",
      "_model_name": "HBoxModel",
      "_view_count": null,
      "_view_module": "@jupyter-widgets/controls",
      "_view_module_version": "1.5.0",
      "_view_name": "HBoxView",
      "box_style": "",
      "children": [
       "IPY_MODEL_921dc877fe93456a9928cc7618ccc6d7",
       "IPY_MODEL_dbea0ae366de46afaae5860c96a82f9b",
       "IPY_MODEL_87b2f7aef9a44988ba19777420bcb700"
      ],
      "layout": "IPY_MODEL_b07cbef631744842bacf05453f5752df"
     }
    },
    "9af9116a6abb41c88167aeffe92a1d34": {
     "model_module": "@jupyter-widgets/controls",
     "model_module_version": "1.5.0",
     "model_name": "DescriptionStyleModel",
     "state": {
      "_model_module": "@jupyter-widgets/controls",
      "_model_module_version": "1.5.0",
      "_model_name": "DescriptionStyleModel",
      "_view_count": null,
      "_view_module": "@jupyter-widgets/base",
      "_view_module_version": "1.2.0",
      "_view_name": "StyleView",
      "description_width": ""
     }
    },
    "ab91240dbe844471993045034e6546f2": {
     "model_module": "@jupyter-widgets/base",
     "model_module_version": "1.2.0",
     "model_name": "LayoutModel",
     "state": {
      "_model_module": "@jupyter-widgets/base",
      "_model_module_version": "1.2.0",
      "_model_name": "LayoutModel",
      "_view_count": null,
      "_view_module": "@jupyter-widgets/base",
      "_view_module_version": "1.2.0",
      "_view_name": "LayoutView",
      "align_content": null,
      "align_items": null,
      "align_self": null,
      "border": null,
      "bottom": null,
      "display": null,
      "flex": null,
      "flex_flow": null,
      "grid_area": null,
      "grid_auto_columns": null,
      "grid_auto_flow": null,
      "grid_auto_rows": null,
      "grid_column": null,
      "grid_gap": null,
      "grid_row": null,
      "grid_template_areas": null,
      "grid_template_columns": null,
      "grid_template_rows": null,
      "height": null,
      "justify_content": null,
      "justify_items": null,
      "left": null,
      "margin": null,
      "max_height": null,
      "max_width": null,
      "min_height": null,
      "min_width": null,
      "object_fit": null,
      "object_position": null,
      "order": null,
      "overflow": null,
      "overflow_x": null,
      "overflow_y": null,
      "padding": null,
      "right": null,
      "top": null,
      "visibility": null,
      "width": null
     }
    },
    "ab937c8d415c4e4f81a9170909c97a95": {
     "model_module": "@jupyter-widgets/base",
     "model_module_version": "1.2.0",
     "model_name": "LayoutModel",
     "state": {
      "_model_module": "@jupyter-widgets/base",
      "_model_module_version": "1.2.0",
      "_model_name": "LayoutModel",
      "_view_count": null,
      "_view_module": "@jupyter-widgets/base",
      "_view_module_version": "1.2.0",
      "_view_name": "LayoutView",
      "align_content": null,
      "align_items": null,
      "align_self": null,
      "border": null,
      "bottom": null,
      "display": null,
      "flex": null,
      "flex_flow": null,
      "grid_area": null,
      "grid_auto_columns": null,
      "grid_auto_flow": null,
      "grid_auto_rows": null,
      "grid_column": null,
      "grid_gap": null,
      "grid_row": null,
      "grid_template_areas": null,
      "grid_template_columns": null,
      "grid_template_rows": null,
      "height": null,
      "justify_content": null,
      "justify_items": null,
      "left": null,
      "margin": null,
      "max_height": null,
      "max_width": null,
      "min_height": null,
      "min_width": null,
      "object_fit": null,
      "object_position": null,
      "order": null,
      "overflow": null,
      "overflow_x": null,
      "overflow_y": null,
      "padding": null,
      "right": null,
      "top": null,
      "visibility": null,
      "width": null
     }
    },
    "b07cbef631744842bacf05453f5752df": {
     "model_module": "@jupyter-widgets/base",
     "model_module_version": "1.2.0",
     "model_name": "LayoutModel",
     "state": {
      "_model_module": "@jupyter-widgets/base",
      "_model_module_version": "1.2.0",
      "_model_name": "LayoutModel",
      "_view_count": null,
      "_view_module": "@jupyter-widgets/base",
      "_view_module_version": "1.2.0",
      "_view_name": "LayoutView",
      "align_content": null,
      "align_items": null,
      "align_self": null,
      "border": null,
      "bottom": null,
      "display": null,
      "flex": null,
      "flex_flow": null,
      "grid_area": null,
      "grid_auto_columns": null,
      "grid_auto_flow": null,
      "grid_auto_rows": null,
      "grid_column": null,
      "grid_gap": null,
      "grid_row": null,
      "grid_template_areas": null,
      "grid_template_columns": null,
      "grid_template_rows": null,
      "height": null,
      "justify_content": null,
      "justify_items": null,
      "left": null,
      "margin": null,
      "max_height": null,
      "max_width": null,
      "min_height": null,
      "min_width": null,
      "object_fit": null,
      "object_position": null,
      "order": null,
      "overflow": null,
      "overflow_x": null,
      "overflow_y": null,
      "padding": null,
      "right": null,
      "top": null,
      "visibility": null,
      "width": null
     }
    },
    "b6a9ef9bd5f64987ac72e71ce144697d": {
     "model_module": "@jupyter-widgets/base",
     "model_module_version": "1.2.0",
     "model_name": "LayoutModel",
     "state": {
      "_model_module": "@jupyter-widgets/base",
      "_model_module_version": "1.2.0",
      "_model_name": "LayoutModel",
      "_view_count": null,
      "_view_module": "@jupyter-widgets/base",
      "_view_module_version": "1.2.0",
      "_view_name": "LayoutView",
      "align_content": null,
      "align_items": null,
      "align_self": null,
      "border": null,
      "bottom": null,
      "display": null,
      "flex": null,
      "flex_flow": null,
      "grid_area": null,
      "grid_auto_columns": null,
      "grid_auto_flow": null,
      "grid_auto_rows": null,
      "grid_column": null,
      "grid_gap": null,
      "grid_row": null,
      "grid_template_areas": null,
      "grid_template_columns": null,
      "grid_template_rows": null,
      "height": null,
      "justify_content": null,
      "justify_items": null,
      "left": null,
      "margin": null,
      "max_height": null,
      "max_width": null,
      "min_height": null,
      "min_width": null,
      "object_fit": null,
      "object_position": null,
      "order": null,
      "overflow": null,
      "overflow_x": null,
      "overflow_y": null,
      "padding": null,
      "right": null,
      "top": null,
      "visibility": null,
      "width": null
     }
    },
    "c23f0327f09940ffa00bb3ee29b98360": {
     "model_module": "@jupyter-widgets/base",
     "model_module_version": "1.2.0",
     "model_name": "LayoutModel",
     "state": {
      "_model_module": "@jupyter-widgets/base",
      "_model_module_version": "1.2.0",
      "_model_name": "LayoutModel",
      "_view_count": null,
      "_view_module": "@jupyter-widgets/base",
      "_view_module_version": "1.2.0",
      "_view_name": "LayoutView",
      "align_content": null,
      "align_items": null,
      "align_self": null,
      "border": null,
      "bottom": null,
      "display": null,
      "flex": null,
      "flex_flow": null,
      "grid_area": null,
      "grid_auto_columns": null,
      "grid_auto_flow": null,
      "grid_auto_rows": null,
      "grid_column": null,
      "grid_gap": null,
      "grid_row": null,
      "grid_template_areas": null,
      "grid_template_columns": null,
      "grid_template_rows": null,
      "height": null,
      "justify_content": null,
      "justify_items": null,
      "left": null,
      "margin": null,
      "max_height": null,
      "max_width": null,
      "min_height": null,
      "min_width": null,
      "object_fit": null,
      "object_position": null,
      "order": null,
      "overflow": null,
      "overflow_x": null,
      "overflow_y": null,
      "padding": null,
      "right": null,
      "top": null,
      "visibility": null,
      "width": null
     }
    },
    "c9ddd8ba83c144358735b228e6e60fcd": {
     "model_module": "@jupyter-widgets/controls",
     "model_module_version": "1.5.0",
     "model_name": "DescriptionStyleModel",
     "state": {
      "_model_module": "@jupyter-widgets/controls",
      "_model_module_version": "1.5.0",
      "_model_name": "DescriptionStyleModel",
      "_view_count": null,
      "_view_module": "@jupyter-widgets/base",
      "_view_module_version": "1.2.0",
      "_view_name": "StyleView",
      "description_width": ""
     }
    },
    "cd147a0f84074914ba8bc0c642adba59": {
     "model_module": "@jupyter-widgets/controls",
     "model_module_version": "1.5.0",
     "model_name": "FloatProgressModel",
     "state": {
      "_dom_classes": [],
      "_model_module": "@jupyter-widgets/controls",
      "_model_module_version": "1.5.0",
      "_model_name": "FloatProgressModel",
      "_view_count": null,
      "_view_module": "@jupyter-widgets/controls",
      "_view_module_version": "1.5.0",
      "_view_name": "ProgressView",
      "bar_style": "success",
      "description": "",
      "description_tooltip": null,
      "layout": "IPY_MODEL_16ddb7d5c0b640a9bbb172888b9a7b76",
      "max": 26421880,
      "min": 0,
      "orientation": "horizontal",
      "style": "IPY_MODEL_3a0c67f02fd247e4a757a467bb898a7d",
      "value": 26421880
     }
    },
    "cf344cc7bab446a5b50a877d4efaef5f": {
     "model_module": "@jupyter-widgets/controls",
     "model_module_version": "1.5.0",
     "model_name": "HTMLModel",
     "state": {
      "_dom_classes": [],
      "_model_module": "@jupyter-widgets/controls",
      "_model_module_version": "1.5.0",
      "_model_name": "HTMLModel",
      "_view_count": null,
      "_view_module": "@jupyter-widgets/controls",
      "_view_module_version": "1.5.0",
      "_view_name": "HTMLView",
      "description": "",
      "description_tooltip": null,
      "layout": "IPY_MODEL_1f0e3fc16ff449f5a539bbbea161725c",
      "placeholder": "​",
      "style": "IPY_MODEL_6177577e8b144b42916106f87b2457d2",
      "value": ""
     }
    },
    "d2d53f15a9fc4911a99bddcd456bba2d": {
     "model_module": "@jupyter-widgets/base",
     "model_module_version": "1.2.0",
     "model_name": "LayoutModel",
     "state": {
      "_model_module": "@jupyter-widgets/base",
      "_model_module_version": "1.2.0",
      "_model_name": "LayoutModel",
      "_view_count": null,
      "_view_module": "@jupyter-widgets/base",
      "_view_module_version": "1.2.0",
      "_view_name": "LayoutView",
      "align_content": null,
      "align_items": null,
      "align_self": null,
      "border": null,
      "bottom": null,
      "display": null,
      "flex": null,
      "flex_flow": null,
      "grid_area": null,
      "grid_auto_columns": null,
      "grid_auto_flow": null,
      "grid_auto_rows": null,
      "grid_column": null,
      "grid_gap": null,
      "grid_row": null,
      "grid_template_areas": null,
      "grid_template_columns": null,
      "grid_template_rows": null,
      "height": null,
      "justify_content": null,
      "justify_items": null,
      "left": null,
      "margin": null,
      "max_height": null,
      "max_width": null,
      "min_height": null,
      "min_width": null,
      "object_fit": null,
      "object_position": null,
      "order": null,
      "overflow": null,
      "overflow_x": null,
      "overflow_y": null,
      "padding": null,
      "right": null,
      "top": null,
      "visibility": null,
      "width": null
     }
    },
    "dbea0ae366de46afaae5860c96a82f9b": {
     "model_module": "@jupyter-widgets/controls",
     "model_module_version": "1.5.0",
     "model_name": "FloatProgressModel",
     "state": {
      "_dom_classes": [],
      "_model_module": "@jupyter-widgets/controls",
      "_model_module_version": "1.5.0",
      "_model_name": "FloatProgressModel",
      "_view_count": null,
      "_view_module": "@jupyter-widgets/controls",
      "_view_module_version": "1.5.0",
      "_view_name": "ProgressView",
      "bar_style": "success",
      "description": "",
      "description_tooltip": null,
      "layout": "IPY_MODEL_439cf778cf834b8295691d8c6d4c0400",
      "max": 29515,
      "min": 0,
      "orientation": "horizontal",
      "style": "IPY_MODEL_f9d3f60c64374df7a75ba2a5865c55fe",
      "value": 29515
     }
    },
    "e8838194239c4e7eb4007814c4efcbca": {
     "model_module": "@jupyter-widgets/controls",
     "model_module_version": "1.5.0",
     "model_name": "HBoxModel",
     "state": {
      "_dom_classes": [],
      "_model_module": "@jupyter-widgets/controls",
      "_model_module_version": "1.5.0",
      "_model_name": "HBoxModel",
      "_view_count": null,
      "_view_module": "@jupyter-widgets/controls",
      "_view_module_version": "1.5.0",
      "_view_name": "HBoxView",
      "box_style": "",
      "children": [
       "IPY_MODEL_064e93deeffe4486bb45d3fd3f9dd064",
       "IPY_MODEL_cd147a0f84074914ba8bc0c642adba59",
       "IPY_MODEL_659eb5604f18407cb6d2322b3c5f5198"
      ],
      "layout": "IPY_MODEL_61f2721057944197bb11e988c65ea034"
     }
    },
    "f02b31ac16eb4b03a4fc1186e390fb79": {
     "model_module": "@jupyter-widgets/controls",
     "model_module_version": "1.5.0",
     "model_name": "HTMLModel",
     "state": {
      "_dom_classes": [],
      "_model_module": "@jupyter-widgets/controls",
      "_model_module_version": "1.5.0",
      "_model_name": "HTMLModel",
      "_view_count": null,
      "_view_module": "@jupyter-widgets/controls",
      "_view_module_version": "1.5.0",
      "_view_name": "HTMLView",
      "description": "",
      "description_tooltip": null,
      "layout": "IPY_MODEL_25cf4f21d922460a82578e982c59d2f4",
      "placeholder": "​",
      "style": "IPY_MODEL_820f186c44ac4d889edd5e8ff429d24e",
      "value": ""
     }
    },
    "f9d3f60c64374df7a75ba2a5865c55fe": {
     "model_module": "@jupyter-widgets/controls",
     "model_module_version": "1.5.0",
     "model_name": "ProgressStyleModel",
     "state": {
      "_model_module": "@jupyter-widgets/controls",
      "_model_module_version": "1.5.0",
      "_model_name": "ProgressStyleModel",
      "_view_count": null,
      "_view_module": "@jupyter-widgets/base",
      "_view_module_version": "1.2.0",
      "_view_name": "StyleView",
      "bar_color": null,
      "description_width": ""
     }
    }
   }
  }
 },
 "nbformat": 4,
 "nbformat_minor": 1
}
